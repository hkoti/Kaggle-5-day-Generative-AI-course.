{
 "cells": [
  {
   "cell_type": "markdown",
   "id": "71991db6",
   "metadata": {
    "id": "b6e13eef3f5d",
    "papermill": {
     "duration": 0.009122,
     "end_time": "2025-04-04T04:46:23.126780",
     "exception": false,
     "start_time": "2025-04-04T04:46:23.117658",
     "status": "completed"
    },
    "tags": []
   },
   "source": [
    "##### Copyright 2025 Google LLC."
   ]
  },
  {
   "cell_type": "code",
   "execution_count": 1,
   "id": "84815f1b",
   "metadata": {
    "cellView": "form",
    "execution": {
     "iopub.execute_input": "2025-04-04T04:46:23.145225Z",
     "iopub.status.busy": "2025-04-04T04:46:23.144698Z",
     "iopub.status.idle": "2025-04-04T04:46:23.150860Z",
     "shell.execute_reply": "2025-04-04T04:46:23.149855Z"
    },
    "id": "d6597b11df14",
    "jupyter": {
     "source_hidden": true
    },
    "papermill": {
     "duration": 0.017686,
     "end_time": "2025-04-04T04:46:23.152919",
     "exception": false,
     "start_time": "2025-04-04T04:46:23.135233",
     "status": "completed"
    },
    "tags": []
   },
   "outputs": [],
   "source": [
    "# @title Licensed under the Apache License, Version 2.0 (the \"License\");\n",
    "# you may not use this file except in compliance with the License.\n",
    "# You may obtain a copy of the License at\n",
    "#\n",
    "# https://www.apache.org/licenses/LICENSE-2.0\n",
    "#\n",
    "# Unless required by applicable law or agreed to in writing, software\n",
    "# distributed under the License is distributed on an \"AS IS\" BASIS,\n",
    "# WITHOUT WARRANTIES OR CONDITIONS OF ANY KIND, either express or implied.\n",
    "# See the License for the specific language governing permissions and\n",
    "# limitations under the License."
   ]
  },
  {
   "cell_type": "markdown",
   "id": "50364632",
   "metadata": {
    "id": "4KDIFPAL2EnL",
    "papermill": {
     "duration": 0.007658,
     "end_time": "2025-04-04T04:46:23.169695",
     "exception": false,
     "start_time": "2025-04-04T04:46:23.162037",
     "status": "completed"
    },
    "tags": []
   },
   "source": [
    "# Day 4 - Fine tuning a custom model\n",
    "\n",
    "Welcome back to the Kaggle 5-day Generative AI course!\n",
    "\n",
    "In this notebook you will use the Gemini API to fine-tune a custom, task-specific model. Fine-tuning can be used for a variety of tasks from classic NLP problems like entity extraction or summarisation, to creative tasks like stylised generation. You will fine-tune a model to classify the category a piece of text (a newsgroup post) into the category it belongs to (the newsgroup name).\n",
    "\n",
    "This codelab walks you tuning a model with the API. [AI Studio](https://aistudio.google.com/app/tune) also supports creating new tuned models directly in the web UI, allowing you to quickly create and monitor models using data from Google Sheets, Drive or your own files.\n",
    "\n",
    "**Note**: We recommend doing this codelab first today. There may be a period of waiting while the model tunes, so if you start with this one, you can try the other codelab while you wait."
   ]
  },
  {
   "cell_type": "code",
   "execution_count": 2,
   "id": "04238005",
   "metadata": {
    "execution": {
     "iopub.execute_input": "2025-04-04T04:46:23.187441Z",
     "iopub.status.busy": "2025-04-04T04:46:23.187066Z",
     "iopub.status.idle": "2025-04-04T04:46:42.205564Z",
     "shell.execute_reply": "2025-04-04T04:46:42.204111Z"
    },
    "id": "9wafTyEH1_xF",
    "papermill": {
     "duration": 19.030483,
     "end_time": "2025-04-04T04:46:42.208276",
     "exception": false,
     "start_time": "2025-04-04T04:46:23.177793",
     "status": "completed"
    },
    "tags": []
   },
   "outputs": [],
   "source": [
    "!pip uninstall -qqy jupyterlab  # Remove unused conflicting packages\n",
    "!pip install -U -q \"google-genai==1.7.0\""
   ]
  },
  {
   "cell_type": "code",
   "execution_count": 3,
   "id": "db079009",
   "metadata": {
    "execution": {
     "iopub.execute_input": "2025-04-04T04:46:42.226157Z",
     "iopub.status.busy": "2025-04-04T04:46:42.225703Z",
     "iopub.status.idle": "2025-04-04T04:46:43.545447Z",
     "shell.execute_reply": "2025-04-04T04:46:43.544349Z"
    },
    "id": "T0CBG9xL2PvT",
    "papermill": {
     "duration": 1.331479,
     "end_time": "2025-04-04T04:46:43.547836",
     "exception": false,
     "start_time": "2025-04-04T04:46:42.216357",
     "status": "completed"
    },
    "tags": []
   },
   "outputs": [
    {
     "data": {
      "text/plain": [
       "'1.7.0'"
      ]
     },
     "execution_count": 3,
     "metadata": {},
     "output_type": "execute_result"
    }
   ],
   "source": [
    "from google import genai\n",
    "from google.genai import types\n",
    "\n",
    "genai.__version__"
   ]
  },
  {
   "cell_type": "markdown",
   "id": "2481b3c5",
   "metadata": {
    "id": "P4bYX2T72ScK",
    "papermill": {
     "duration": 0.007888,
     "end_time": "2025-04-04T04:46:43.564121",
     "exception": false,
     "start_time": "2025-04-04T04:46:43.556233",
     "status": "completed"
    },
    "tags": []
   },
   "source": [
    "### Set up your API key\n",
    "\n",
    "To run the following cell, your API key must be stored it in a [Kaggle secret](https://www.kaggle.com/discussions/product-feedback/114053) named `GOOGLE_API_KEY`.\n",
    "\n",
    "If you don't already have an API key, you can grab one from [AI Studio](https://aistudio.google.com/app/apikey). You can find [detailed instructions in the docs](https://ai.google.dev/gemini-api/docs/api-key).\n",
    "\n",
    "To make the key available through Kaggle secrets, choose `Secrets` from the `Add-ons` menu and follow the instructions to add your key or enable it for this notebook."
   ]
  },
  {
   "cell_type": "code",
   "execution_count": 4,
   "id": "e5841165",
   "metadata": {
    "execution": {
     "iopub.execute_input": "2025-04-04T04:46:43.582061Z",
     "iopub.status.busy": "2025-04-04T04:46:43.581500Z",
     "iopub.status.idle": "2025-04-04T04:46:43.889601Z",
     "shell.execute_reply": "2025-04-04T04:46:43.888661Z"
    },
    "id": "VuJPY3GK2SLZ",
    "papermill": {
     "duration": 0.319936,
     "end_time": "2025-04-04T04:46:43.892111",
     "exception": false,
     "start_time": "2025-04-04T04:46:43.572175",
     "status": "completed"
    },
    "tags": []
   },
   "outputs": [],
   "source": [
    "from kaggle_secrets import UserSecretsClient\n",
    "\n",
    "GOOGLE_API_KEY = UserSecretsClient().get_secret(\"GOOGLE_API_KEY\")\n",
    "\n",
    "client = genai.Client(api_key=GOOGLE_API_KEY)"
   ]
  },
  {
   "attachments": {
    "53e1d527-de81-497e-bfac-58df458e750b.png": {
     "image/png": "[encoded data removed]"
    }
   },
   "cell_type": "markdown",
   "id": "8b96ab06",
   "metadata": {
    "id": "25b2127c2052",
    "papermill": {
     "duration": 0.007822,
     "end_time": "2025-04-04T04:46:43.908161",
     "exception": false,
     "start_time": "2025-04-04T04:46:43.900339",
     "status": "completed"
    },
    "tags": []
   },
   "source": [
    "If you received an error response along the lines of `No user secrets exist for kernel id ...`, then you need to add your API key via `Add-ons`, `Secrets` **and** enable it.\n",
    "\n",
    "![Screenshot of the checkbox to enable GOOGLE_API_KEY secret](https://storage.googleapis.com/kaggle-media/Images/5gdai_sc_3.png)"
   ]
  },
  {
   "cell_type": "markdown",
   "id": "bd8b1f0d",
   "metadata": {
    "id": "CqVA5QFO6n4z",
    "papermill": {
     "duration": 0.008105,
     "end_time": "2025-04-04T04:46:43.924343",
     "exception": false,
     "start_time": "2025-04-04T04:46:43.916238",
     "status": "completed"
    },
    "tags": []
   },
   "source": [
    "### Explore available models\n",
    "\n",
    "You will be using the [`TunedModel.create`](https://ai.google.dev/api/tuning#method:-tunedmodels.create) API method to start the fine-tuning job and create your custom model. Find a model that supports it through the [`models.list`](https://ai.google.dev/api/models#method:-models.list) endpoint. You can also find more information about tuning models in [the model tuning docs](https://ai.google.dev/gemini-api/docs/model-tuning/tutorial?lang=python)."
   ]
  },
  {
   "cell_type": "code",
   "execution_count": 5,
   "id": "7550243a",
   "metadata": {
    "execution": {
     "iopub.execute_input": "2025-04-04T04:46:43.942823Z",
     "iopub.status.busy": "2025-04-04T04:46:43.941715Z",
     "iopub.status.idle": "2025-04-04T04:46:44.239192Z",
     "shell.execute_reply": "2025-04-04T04:46:44.238043Z"
    },
    "id": "coEacWAB6o0G",
    "papermill": {
     "duration": 0.308928,
     "end_time": "2025-04-04T04:46:44.241413",
     "exception": false,
     "start_time": "2025-04-04T04:46:43.932485",
     "status": "completed"
    },
    "tags": []
   },
   "outputs": [
    {
     "name": "stdout",
     "output_type": "stream",
     "text": [
      "models/gemini-1.5-flash-001-tuning\n"
     ]
    }
   ],
   "source": [
    "for model in client.models.list():\n",
    "    if \"createTunedModel\" in model.supported_actions:\n",
    "        print(model.name)"
   ]
  },
  {
   "cell_type": "markdown",
   "id": "cc790796",
   "metadata": {
    "id": "peFm0w_0c1CO",
    "papermill": {
     "duration": 0.007945,
     "end_time": "2025-04-04T04:46:44.257552",
     "exception": false,
     "start_time": "2025-04-04T04:46:44.249607",
     "status": "completed"
    },
    "tags": []
   },
   "source": [
    "## Download the dataset\n",
    "\n",
    "In this activity, you will use the same newsgroups dataset that [you used to train a classifier in Keras](https://www.kaggle.com/code/markishere/day-2-classifying-embeddings-with-keras/). In this example you will use a fine-tuned Gemini model to achieve the same goal.\n",
    "\n",
    "The [20 Newsgroups Text Dataset](https://scikit-learn.org/0.19/datasets/twenty_newsgroups.html) contains 18,000 newsgroups posts on 20 topics divided into training and test sets."
   ]
  },
  {
   "cell_type": "code",
   "execution_count": 6,
   "id": "1b3dd955",
   "metadata": {
    "execution": {
     "iopub.execute_input": "2025-04-04T04:46:44.275212Z",
     "iopub.status.busy": "2025-04-04T04:46:44.274801Z",
     "iopub.status.idle": "2025-04-04T04:46:57.200391Z",
     "shell.execute_reply": "2025-04-04T04:46:57.199305Z"
    },
    "id": "bX_kpgnQ9b-Z",
    "papermill": {
     "duration": 12.93711,
     "end_time": "2025-04-04T04:46:57.202678",
     "exception": false,
     "start_time": "2025-04-04T04:46:44.265568",
     "status": "completed"
    },
    "tags": []
   },
   "outputs": [
    {
     "data": {
      "text/plain": [
       "['alt.atheism',\n",
       " 'comp.graphics',\n",
       " 'comp.os.ms-windows.misc',\n",
       " 'comp.sys.ibm.pc.hardware',\n",
       " 'comp.sys.mac.hardware',\n",
       " 'comp.windows.x',\n",
       " 'misc.forsale',\n",
       " 'rec.autos',\n",
       " 'rec.motorcycles',\n",
       " 'rec.sport.baseball',\n",
       " 'rec.sport.hockey',\n",
       " 'sci.crypt',\n",
       " 'sci.electronics',\n",
       " 'sci.med',\n",
       " 'sci.space',\n",
       " 'soc.religion.christian',\n",
       " 'talk.politics.guns',\n",
       " 'talk.politics.mideast',\n",
       " 'talk.politics.misc',\n",
       " 'talk.religion.misc']"
      ]
     },
     "execution_count": 6,
     "metadata": {},
     "output_type": "execute_result"
    }
   ],
   "source": [
    "from sklearn.datasets import fetch_20newsgroups\n",
    "\n",
    "newsgroups_train = fetch_20newsgroups(subset=\"train\")\n",
    "newsgroups_test = fetch_20newsgroups(subset=\"test\")\n",
    "\n",
    "# View list of class names for dataset\n",
    "newsgroups_train.target_names"
   ]
  },
  {
   "cell_type": "markdown",
   "id": "99ba3ecc",
   "metadata": {
    "id": "ipafe6ptZFjt",
    "papermill": {
     "duration": 0.007955,
     "end_time": "2025-04-04T04:46:57.219579",
     "exception": false,
     "start_time": "2025-04-04T04:46:57.211624",
     "status": "completed"
    },
    "tags": []
   },
   "source": [
    "Here's what a single row looks like."
   ]
  },
  {
   "cell_type": "code",
   "execution_count": 7,
   "id": "5e491908",
   "metadata": {
    "execution": {
     "iopub.execute_input": "2025-04-04T04:46:57.237950Z",
     "iopub.status.busy": "2025-04-04T04:46:57.237012Z",
     "iopub.status.idle": "2025-04-04T04:46:57.242577Z",
     "shell.execute_reply": "2025-04-04T04:46:57.241529Z"
    },
    "id": "EtEXcdT39hCB",
    "papermill": {
     "duration": 0.017198,
     "end_time": "2025-04-04T04:46:57.244873",
     "exception": false,
     "start_time": "2025-04-04T04:46:57.227675",
     "status": "completed"
    },
    "tags": []
   },
   "outputs": [
    {
     "name": "stdout",
     "output_type": "stream",
     "text": [
      "From: lerxst@wam.umd.edu (where's my thing)\n",
      "Subject: WHAT car is this!?\n",
      "Nntp-Posting-Host: rac3.wam.umd.edu\n",
      "Organization: University of Maryland, College Park\n",
      "Lines: 15\n",
      "\n",
      " I was wondering if anyone out there could enlighten me on this car I saw\n",
      "the other day. It was a 2-door sports car, looked to be from the late 60s/\n",
      "early 70s. It was called a Bricklin. The doors were really small. In addition,\n",
      "the front bumper was separate from the rest of the body. This is \n",
      "all I know. If anyone can tellme a model name, engine specs, years\n",
      "of production, where this car is made, history, or whatever info you\n",
      "have on this funky looking car, please e-mail.\n",
      "\n",
      "Thanks,\n",
      "- IL\n",
      "   ---- brought to you by your neighborhood Lerxst ----\n",
      "\n",
      "\n",
      "\n",
      "\n",
      "\n"
     ]
    }
   ],
   "source": [
    "print(newsgroups_train.data[0])"
   ]
  },
  {
   "cell_type": "markdown",
   "id": "424cfa3b",
   "metadata": {
    "id": "03lDs1O4ZQ0-",
    "papermill": {
     "duration": 0.008154,
     "end_time": "2025-04-04T04:46:57.261393",
     "exception": false,
     "start_time": "2025-04-04T04:46:57.253239",
     "status": "completed"
    },
    "tags": []
   },
   "source": [
    "## Prepare the dataset\n",
    "\n",
    "You'll use the same pre-processing code you used for the custom model on day 2. This pre-processing removes personal information, which can be used to \"shortcut\" to known users of a forum, and formats the text to appear a bit more like regular text and less like a newsgroup post (e.g. by removing the mail headers). This normalisation allows the model to generalise to regular text and not over-depend on specific fields. If your input data is always going to be newsgroup posts, it may be helpful to leave this structure in place if they provide genuine signals."
   ]
  },
  {
   "cell_type": "code",
   "execution_count": 8,
   "id": "4dcfb341",
   "metadata": {
    "execution": {
     "iopub.execute_input": "2025-04-04T04:46:57.279700Z",
     "iopub.status.busy": "2025-04-04T04:46:57.279348Z",
     "iopub.status.idle": "2025-04-04T04:46:58.085173Z",
     "shell.execute_reply": "2025-04-04T04:46:58.084046Z"
    },
    "id": "IoNYTxpoZgB0",
    "papermill": {
     "duration": 0.817925,
     "end_time": "2025-04-04T04:46:58.087691",
     "exception": false,
     "start_time": "2025-04-04T04:46:57.269766",
     "status": "completed"
    },
    "tags": []
   },
   "outputs": [],
   "source": [
    "import email\n",
    "import re\n",
    "\n",
    "import pandas as pd\n",
    "\n",
    "\n",
    "def preprocess_newsgroup_row(data):\n",
    "    # Extract only the subject and body\n",
    "    msg = email.message_from_string(data)\n",
    "    text = f\"{msg['Subject']}\\n\\n{msg.get_payload()}\"\n",
    "    # Strip any remaining email addresses\n",
    "    text = re.sub(r\"[\\w\\.-]+@[\\w\\.-]+\", \"\", text)\n",
    "    # Truncate the text to fit within the input limits\n",
    "    text = text[:40000]\n",
    "\n",
    "    return text\n",
    "\n",
    "\n",
    "def preprocess_newsgroup_data(newsgroup_dataset):\n",
    "    # Put data points into dataframe\n",
    "    df = pd.DataFrame(\n",
    "        {\"Text\": newsgroup_dataset.data, \"Label\": newsgroup_dataset.target}\n",
    "    )\n",
    "    # Clean up the text\n",
    "    df[\"Text\"] = df[\"Text\"].apply(preprocess_newsgroup_row)\n",
    "    # Match label to target name index\n",
    "    df[\"Class Name\"] = df[\"Label\"].map(lambda l: newsgroup_dataset.target_names[l])\n",
    "\n",
    "    return df"
   ]
  },
  {
   "cell_type": "code",
   "execution_count": 9,
   "id": "18ad5e07",
   "metadata": {
    "execution": {
     "iopub.execute_input": "2025-04-04T04:46:58.106607Z",
     "iopub.status.busy": "2025-04-04T04:46:58.106035Z",
     "iopub.status.idle": "2025-04-04T04:47:01.784773Z",
     "shell.execute_reply": "2025-04-04T04:47:01.783720Z"
    },
    "id": "kvOsUSRWaW4g",
    "papermill": {
     "duration": 3.690614,
     "end_time": "2025-04-04T04:47:01.786917",
     "exception": false,
     "start_time": "2025-04-04T04:46:58.096303",
     "status": "completed"
    },
    "tags": []
   },
   "outputs": [
    {
     "data": {
      "text/html": [
       "<div>\n",
       "<style scoped>\n",
       "    .dataframe tbody tr th:only-of-type {\n",
       "        vertical-align: middle;\n",
       "    }\n",
       "\n",
       "    .dataframe tbody tr th {\n",
       "        vertical-align: top;\n",
       "    }\n",
       "\n",
       "    .dataframe thead th {\n",
       "        text-align: right;\n",
       "    }\n",
       "</style>\n",
       "<table border=\"1\" class=\"dataframe\">\n",
       "  <thead>\n",
       "    <tr style=\"text-align: right;\">\n",
       "      <th></th>\n",
       "      <th>Text</th>\n",
       "      <th>Label</th>\n",
       "      <th>Class Name</th>\n",
       "    </tr>\n",
       "  </thead>\n",
       "  <tbody>\n",
       "    <tr>\n",
       "      <th>0</th>\n",
       "      <td>WHAT car is this!?\\n\\n I was wondering if anyo...</td>\n",
       "      <td>7</td>\n",
       "      <td>rec.autos</td>\n",
       "    </tr>\n",
       "    <tr>\n",
       "      <th>1</th>\n",
       "      <td>SI Clock Poll - Final Call\\n\\nA fair number of...</td>\n",
       "      <td>4</td>\n",
       "      <td>comp.sys.mac.hardware</td>\n",
       "    </tr>\n",
       "    <tr>\n",
       "      <th>2</th>\n",
       "      <td>PB questions...\\n\\nwell folks, my mac plus fin...</td>\n",
       "      <td>4</td>\n",
       "      <td>comp.sys.mac.hardware</td>\n",
       "    </tr>\n",
       "    <tr>\n",
       "      <th>3</th>\n",
       "      <td>Re: Weitek P9000 ?\\n\\nRobert J.C. Kyanko () wr...</td>\n",
       "      <td>1</td>\n",
       "      <td>comp.graphics</td>\n",
       "    </tr>\n",
       "    <tr>\n",
       "      <th>4</th>\n",
       "      <td>Re: Shuttle Launch Question\\n\\nFrom article &lt;&gt;...</td>\n",
       "      <td>14</td>\n",
       "      <td>sci.space</td>\n",
       "    </tr>\n",
       "  </tbody>\n",
       "</table>\n",
       "</div>"
      ],
      "text/plain": [
       "                                                Text  Label  \\\n",
       "0  WHAT car is this!?\\n\\n I was wondering if anyo...      7   \n",
       "1  SI Clock Poll - Final Call\\n\\nA fair number of...      4   \n",
       "2  PB questions...\\n\\nwell folks, my mac plus fin...      4   \n",
       "3  Re: Weitek P9000 ?\\n\\nRobert J.C. Kyanko () wr...      1   \n",
       "4  Re: Shuttle Launch Question\\n\\nFrom article <>...     14   \n",
       "\n",
       "              Class Name  \n",
       "0              rec.autos  \n",
       "1  comp.sys.mac.hardware  \n",
       "2  comp.sys.mac.hardware  \n",
       "3          comp.graphics  \n",
       "4              sci.space  "
      ]
     },
     "execution_count": 9,
     "metadata": {},
     "output_type": "execute_result"
    }
   ],
   "source": [
    "# Apply preprocessing to training and test datasets\n",
    "df_train = preprocess_newsgroup_data(newsgroups_train)\n",
    "df_test = preprocess_newsgroup_data(newsgroups_test)\n",
    "\n",
    "df_train.head()"
   ]
  },
  {
   "cell_type": "markdown",
   "id": "2a77ced0",
   "metadata": {
    "id": "XSKcj5WtadaR",
    "papermill": {
     "duration": 0.008168,
     "end_time": "2025-04-04T04:47:01.803599",
     "exception": false,
     "start_time": "2025-04-04T04:47:01.795431",
     "status": "completed"
    },
    "tags": []
   },
   "source": [
    "Now sample the data. You will keep 50 rows for each category for training. Note that this is even fewer than the Keras example, as this technique (parameter-efficient fine-tuning, or PEFT) updates a relatively small number of parameters and does not require training a new model or updating the large model."
   ]
  },
  {
   "cell_type": "code",
   "execution_count": 10,
   "id": "2911535a",
   "metadata": {
    "execution": {
     "iopub.execute_input": "2025-04-04T04:47:01.823081Z",
     "iopub.status.busy": "2025-04-04T04:47:01.822678Z",
     "iopub.status.idle": "2025-04-04T04:47:01.866045Z",
     "shell.execute_reply": "2025-04-04T04:47:01.865158Z"
    },
    "id": "0t9Xu6X5akkt",
    "papermill": {
     "duration": 0.055648,
     "end_time": "2025-04-04T04:47:01.868501",
     "exception": false,
     "start_time": "2025-04-04T04:47:01.812853",
     "status": "completed"
    },
    "tags": []
   },
   "outputs": [],
   "source": [
    "def sample_data(df, num_samples, classes_to_keep):\n",
    "    # Sample rows, selecting num_samples of each Label.\n",
    "    df = (\n",
    "        df.groupby(\"Label\")[df.columns]\n",
    "        .apply(lambda x: x.sample(num_samples))\n",
    "        .reset_index(drop=True)\n",
    "    )\n",
    "\n",
    "    df = df[df[\"Class Name\"].str.contains(classes_to_keep)]\n",
    "    df[\"Class Name\"] = df[\"Class Name\"].astype(\"category\")\n",
    "\n",
    "    return df\n",
    "\n",
    "\n",
    "TRAIN_NUM_SAMPLES = 50\n",
    "TEST_NUM_SAMPLES = 10\n",
    "# Keep rec.* and sci.*\n",
    "CLASSES_TO_KEEP = \"^rec|^sci\"\n",
    "\n",
    "df_train = sample_data(df_train, TRAIN_NUM_SAMPLES, CLASSES_TO_KEEP)\n",
    "df_test = sample_data(df_test, TEST_NUM_SAMPLES, CLASSES_TO_KEEP)"
   ]
  },
  {
   "cell_type": "markdown",
   "id": "888ec1bf",
   "metadata": {
    "papermill": {
     "duration": 0.008192,
     "end_time": "2025-04-04T04:47:01.885350",
     "exception": false,
     "start_time": "2025-04-04T04:47:01.877158",
     "status": "completed"
    },
    "tags": []
   },
   "source": [
    "## Evaluate baseline performance\n",
    "\n",
    "Before you start tuning a model, it's good practice to perform an evaluation on the available models to ensure you can measure how much the tuning helps.\n",
    "\n",
    "First identify a single sample row to use for visual inspection."
   ]
  },
  {
   "cell_type": "code",
   "execution_count": 11,
   "id": "ef48ac72",
   "metadata": {
    "execution": {
     "iopub.execute_input": "2025-04-04T04:47:01.904307Z",
     "iopub.status.busy": "2025-04-04T04:47:01.903901Z",
     "iopub.status.idle": "2025-04-04T04:47:01.910048Z",
     "shell.execute_reply": "2025-04-04T04:47:01.908987Z"
    },
    "papermill": {
     "duration": 0.018419,
     "end_time": "2025-04-04T04:47:01.912551",
     "exception": false,
     "start_time": "2025-04-04T04:47:01.894132",
     "status": "completed"
    },
    "tags": []
   },
   "outputs": [
    {
     "name": "stdout",
     "output_type": "stream",
     "text": [
      "Need info on 88-89 Bonneville\n",
      "\n",
      "\n",
      " I am a little confused on all of the models of the 88-89 bonnevilles.\n",
      "I have heard of the LE SE LSE SSE SSEI. Could someone tell me the\n",
      "differences are far as features or performance. I am also curious to\n",
      "know what the book value is for prefereably the 89 model. And how much\n",
      "less than book value can you usually get them for. In other words how\n",
      "much are they in demand this time of year. I have heard that the mid-spring\n",
      "early summer is the best time to buy.\n",
      "\n",
      "\t\t\tNeil Gandler\n",
      "\n",
      "---\n",
      "Label: rec.autos\n"
     ]
    }
   ],
   "source": [
    "sample_idx = 0\n",
    "sample_row = preprocess_newsgroup_row(newsgroups_test.data[sample_idx])\n",
    "sample_label = newsgroups_test.target_names[newsgroups_test.target[sample_idx]]\n",
    "\n",
    "print(sample_row)\n",
    "print('---')\n",
    "print('Label:', sample_label)"
   ]
  },
  {
   "cell_type": "markdown",
   "id": "35682cc1",
   "metadata": {
    "papermill": {
     "duration": 0.008269,
     "end_time": "2025-04-04T04:47:01.929830",
     "exception": false,
     "start_time": "2025-04-04T04:47:01.921561",
     "status": "completed"
    },
    "tags": []
   },
   "source": [
    "Passing the text directly in as a prompt does not yield the desired results. The model will attempt to respond to the message."
   ]
  },
  {
   "cell_type": "code",
   "execution_count": 12,
   "id": "f6e48992",
   "metadata": {
    "execution": {
     "iopub.execute_input": "2025-04-04T04:47:01.948425Z",
     "iopub.status.busy": "2025-04-04T04:47:01.948065Z",
     "iopub.status.idle": "2025-04-04T04:47:06.251489Z",
     "shell.execute_reply": "2025-04-04T04:47:06.250318Z"
    },
    "papermill": {
     "duration": 4.315917,
     "end_time": "2025-04-04T04:47:06.254232",
     "exception": false,
     "start_time": "2025-04-04T04:47:01.938315",
     "status": "completed"
    },
    "tags": []
   },
   "outputs": [
    {
     "name": "stdout",
     "output_type": "stream",
     "text": [
      "You're right, the 1988-89 Bonneville lineup could be a bit confusing! Let's break down the different models and their features:\n",
      "\n",
      "**1988-1989 Bonneville Trim Levels:**\n",
      "\n",
      "* **LE:** The base model, offering basic features like power steering, power brakes, and cloth upholstery. \n",
      "* **SE:**  Added features like upgraded cloth upholstery, rear window defroster, and possibly a tilt steering wheel.\n",
      "* **LSE:**  A step up from the SE, often featuring leather upholstery, digital instrument cluster, and other comfort features.\n",
      "* **SSE:**  A sporty trim with a slightly more powerful engine (usually a 3.8L V6 with more horsepower). It also had  sportier suspension tuning, a different grille, and often featured unique wheels. \n",
      "* **SSEi:** The top-of-the-line model, typically boasting the most powerful engine (a 3.8L V6 with more power than the SSE) along with unique exterior and interior styling elements.  It often had even more aggressive suspension tuning. \n",
      "\n",
      "**Performance Differences:**\n",
      "\n",
      "* The biggest difference in performance was found in the engine options. The base models (LE and SE) often had a smaller displacement engine, while the SSE and SSEi had the more powerful 3.8L V6 with various horsepower ratings. \n",
      "*  SSE models also featured a more sporty suspension setup, providing better handling.\n",
      "\n",
      "**Book Value and Market Demand:**\n",
      "\n",
      "* **Book Value:** Unfortunately, I can't provide you with an exact book value.  Those figures can vary greatly depending on the condition, mileage, and the specific trim level of the vehicle. Websites like Kelley Blue Book (KBB) or Edmunds can give you a general idea.\n",
      "* **Market Demand:**  1988-89 Bonnevilles are generally considered to be older vehicles. While some people may be seeking out the SSEi for its unique styling and potential performance, demand is likely to be lower compared to newer models.\n",
      "* **Best Time to Buy:** The best time to buy is often when demand is lower, like late fall or early winter. However, the market can be unpredictable, and deals can be found year-round if you shop around. \n",
      "\n",
      "**Finding a Deal:**\n",
      "\n",
      "* **Online Marketplaces:** Websites like Craigslist, Facebook Marketplace, and Autotrader can be good resources to find used Bonnevilles.\n",
      "* **Local Dealerships:** Check local used car dealerships for available Bonnevilles.  \n",
      "* **Private Sellers:** You might find good deals from private sellers, but make sure to thoroughly inspect any vehicle before purchase.\n",
      "\n",
      "**Important Considerations Before Buying:**\n",
      "\n",
      "* **Condition:**  Inspect the vehicle thoroughly. Look for rust, damage, leaks, and signs of wear and tear.  Consider a pre-purchase inspection by a qualified mechanic.\n",
      "* **Maintenance Records:**  Ask the seller for any available service records. This will give you insight into how well the vehicle has been maintained.\n",
      "* **Mileage:**  High mileage can indicate potential future repair costs. \n",
      "\n",
      "Remember, your goal is to find a Bonneville that fits your needs and budget.  Take your time, do your research, and you'll be well on your way to owning a classic American car! \n",
      "\n"
     ]
    }
   ],
   "source": [
    "response = client.models.generate_content(\n",
    "    model=\"gemini-1.5-flash-001\", contents=sample_row)\n",
    "print(response.text)"
   ]
  },
  {
   "cell_type": "markdown",
   "id": "c510e78e",
   "metadata": {
    "papermill": {
     "duration": 0.008642,
     "end_time": "2025-04-04T04:47:06.271857",
     "exception": false,
     "start_time": "2025-04-04T04:47:06.263215",
     "status": "completed"
    },
    "tags": []
   },
   "source": [
    "You can use the prompt engineering techniques you have learned this week to induce the model to perform the desired task. Try some of your own ideas and see what is effective, or check out the following cells for different approaches. Note that they have different levels of effectiveness!"
   ]
  },
  {
   "cell_type": "code",
   "execution_count": 13,
   "id": "4d91f2d6",
   "metadata": {
    "execution": {
     "iopub.execute_input": "2025-04-04T04:47:06.291156Z",
     "iopub.status.busy": "2025-04-04T04:47:06.290764Z",
     "iopub.status.idle": "2025-04-04T04:47:08.815784Z",
     "shell.execute_reply": "2025-04-04T04:47:08.814622Z"
    },
    "papermill": {
     "duration": 2.537357,
     "end_time": "2025-04-04T04:47:08.818094",
     "exception": false,
     "start_time": "2025-04-04T04:47:06.280737",
     "status": "completed"
    },
    "tags": []
   },
   "outputs": [
    {
     "name": "stdout",
     "output_type": "stream",
     "text": [
      "This message most likely originates from a **newsgroup dedicated to Pontiac Bonnevilles**. \n",
      "\n",
      "Here's why:\n",
      "\n",
      "* **Specific model inquiries:**  The message focuses on the specific model years (88-89) and various trim levels of the Bonneville (LE, SE, LSE, SSE, SSEi). \n",
      "* **Detailed questions:** The message asks about feature and performance differences between trim levels, which suggests a community of enthusiasts familiar with the intricacies of the car.\n",
      "* **Book value and market demand:**  The message also mentions book value and market demand, which are typical topics discussed in car-related forums or newsgroups.\n",
      "\n",
      "The most likely newsgroup is **alt.autos.pontiac.bonneville**, but it may also have been posted on a broader Pontiac-related newsgroup like **alt.autos.pontiac**. \n",
      "\n"
     ]
    }
   ],
   "source": [
    "# Ask the model directly in a zero-shot prompt.\n",
    "\n",
    "prompt = \"From what newsgroup does the following message originate?\"\n",
    "baseline_response = client.models.generate_content(\n",
    "    model=\"gemini-1.5-flash-001\",\n",
    "    contents=[prompt, sample_row])\n",
    "print(baseline_response.text)"
   ]
  },
  {
   "cell_type": "code",
   "execution_count": 14,
   "id": "42c71b05",
   "metadata": {
    "execution": {
     "iopub.execute_input": "2025-04-04T04:47:08.837500Z",
     "iopub.status.busy": "2025-04-04T04:47:08.837120Z",
     "iopub.status.idle": "2025-04-04T04:47:10.031891Z",
     "shell.execute_reply": "2025-04-04T04:47:10.030654Z"
    },
    "papermill": {
     "duration": 1.20723,
     "end_time": "2025-04-04T04:47:10.034236",
     "exception": false,
     "start_time": "2025-04-04T04:47:08.827006",
     "status": "completed"
    },
    "tags": []
   },
   "outputs": [
    {
     "name": "stdout",
     "output_type": "stream",
     "text": [
      "This message most likely originates from the **rec.autos.pontiac** newsgroup. \n",
      "\n",
      "Here's why:\n",
      "\n",
      "* **Topic:** The message focuses on a specific Pontiac model, the Bonneville.\n",
      "* **Target Audience:** The message asks for information about model variations and pricing, suggesting an audience interested in buying a Pontiac Bonneville.\n",
      "* **Commonality:**  Rec.autos.pontiac would be a common place for Pontiac enthusiasts to discuss their cars, including model differences and pricing.\n",
      "\n",
      "While there might be other newsgroups where such a message could appear, rec.autos.pontiac is the most likely origin given the content and the focus on Pontiac vehicles. \n",
      "\n"
     ]
    }
   ],
   "source": [
    "# Ask the model directly in a zero-shot prompt.\n",
    "\n",
    "prompt = \"From what newsgroup does the following message originate?\"\n",
    "baseline_response = client.models.generate_content(\n",
    "    model=\"gemini-1.5-flash-001\",\n",
    "    contents=[prompt, sample_row])\n",
    "print(baseline_response.text)"
   ]
  },
  {
   "cell_type": "markdown",
   "id": "cc49dc9f",
   "metadata": {
    "papermill": {
     "duration": 0.008604,
     "end_time": "2025-04-04T04:47:10.052555",
     "exception": false,
     "start_time": "2025-04-04T04:47:10.043951",
     "status": "completed"
    },
    "tags": []
   },
   "source": [
    "This technique still produces quite a verbose response. You could try and parse out the relevant text, or refine the prompt even further."
   ]
  },
  {
   "cell_type": "code",
   "execution_count": 15,
   "id": "21e9d0d6",
   "metadata": {
    "execution": {
     "iopub.execute_input": "2025-04-04T04:47:10.072429Z",
     "iopub.status.busy": "2025-04-04T04:47:10.072057Z",
     "iopub.status.idle": "2025-04-04T04:47:10.744052Z",
     "shell.execute_reply": "2025-04-04T04:47:10.742946Z"
    },
    "papermill": {
     "duration": 0.684915,
     "end_time": "2025-04-04T04:47:10.746297",
     "exception": false,
     "start_time": "2025-04-04T04:47:10.061382",
     "status": "completed"
    },
    "tags": []
   },
   "outputs": [
    {
     "name": "stdout",
     "output_type": "stream",
     "text": [
      "rec.autos.misc\n",
      "\n",
      "Incorrect.\n"
     ]
    }
   ],
   "source": [
    "from google.api_core import retry\n",
    "\n",
    "# You can use a system instruction to do more direct prompting, and get a\n",
    "# more succinct answer.\n",
    "\n",
    "system_instruct = \"\"\"\n",
    "You are a classification service. You will be passed input that represents\n",
    "a newsgroup post and you must respond with the newsgroup from which the post\n",
    "originates.\n",
    "\"\"\"\n",
    "\n",
    "# Define a helper to retry when per-minute quota is reached.\n",
    "is_retriable = lambda e: (isinstance(e, genai.errors.APIError) and e.code in {429, 503})\n",
    "\n",
    "# If you want to evaluate your own technique, replace this body of this function\n",
    "# with your model, prompt and other code and return the predicted answer.\n",
    "@retry.Retry(predicate=is_retriable)\n",
    "def predict_label(post: str) -> str:\n",
    "    response = client.models.generate_content(\n",
    "        model=\"gemini-1.5-flash-001\",\n",
    "        config=types.GenerateContentConfig(\n",
    "            system_instruction=system_instruct),\n",
    "        contents=post)\n",
    "\n",
    "    rc = response.candidates[0]\n",
    "\n",
    "    # Any errors, filters, recitation, etc we can mark as a general error\n",
    "    if rc.finish_reason.name != \"STOP\":\n",
    "        return \"(error)\"\n",
    "    else:\n",
    "        # Clean up the response.\n",
    "        return response.text.strip()\n",
    "\n",
    "\n",
    "prediction = predict_label(sample_row)\n",
    "\n",
    "print(prediction)\n",
    "print()\n",
    "print(\"Correct!\" if prediction == sample_label else \"Incorrect.\")"
   ]
  },
  {
   "cell_type": "markdown",
   "id": "ad5efbed",
   "metadata": {
    "papermill": {
     "duration": 0.008692,
     "end_time": "2025-04-04T04:47:10.763927",
     "exception": false,
     "start_time": "2025-04-04T04:47:10.755235",
     "status": "completed"
    },
    "tags": []
   },
   "source": [
    "Now run a short evaluation using the function defined above. The test set is further sampled to ensure the experiment runs smoothly on the API's free tier. In practice you would evaluate over the whole set."
   ]
  },
  {
   "cell_type": "code",
   "execution_count": 16,
   "id": "ddeea559",
   "metadata": {
    "execution": {
     "iopub.execute_input": "2025-04-04T04:47:10.783817Z",
     "iopub.status.busy": "2025-04-04T04:47:10.783410Z",
     "iopub.status.idle": "2025-04-04T04:48:11.463819Z",
     "shell.execute_reply": "2025-04-04T04:48:11.462694Z"
    },
    "papermill": {
     "duration": 60.693837,
     "end_time": "2025-04-04T04:48:11.467045",
     "exception": false,
     "start_time": "2025-04-04T04:47:10.773208",
     "status": "completed"
    },
    "tags": []
   },
   "outputs": [
    {
     "data": {
      "application/vnd.jupyter.widget-view+json": {
       "model_id": "0d04dd0065f94518b4e9d9943ad143a3",
       "version_major": 2,
       "version_minor": 0
      },
      "text/plain": [
       "Output()"
      ]
     },
     "metadata": {},
     "output_type": "display_data"
    },
    {
     "data": {
      "text/html": [
       "<pre style=\"white-space:pre;overflow-x:auto;line-height:normal;font-family:Menlo,'DejaVu Sans Mono',consolas,'Courier New',monospace\"></pre>\n"
      ],
      "text/plain": []
     },
     "metadata": {},
     "output_type": "display_data"
    },
    {
     "data": {
      "text/html": [
       "<pre style=\"white-space:pre;overflow-x:auto;line-height:normal;font-family:Menlo,'DejaVu Sans Mono',consolas,'Courier New',monospace\">\n",
       "</pre>\n"
      ],
      "text/plain": [
       "\n"
      ]
     },
     "metadata": {},
     "output_type": "display_data"
    },
    {
     "name": "stdout",
     "output_type": "stream",
     "text": [
      "Accuracy: 31.25%\n"
     ]
    }
   ],
   "source": [
    "import tqdm\n",
    "from tqdm.rich import tqdm as tqdmr\n",
    "import warnings\n",
    "\n",
    "# Enable tqdm features on Pandas.\n",
    "tqdmr.pandas()\n",
    "\n",
    "# But suppress the experimental warning\n",
    "warnings.filterwarnings(\"ignore\", category=tqdm.TqdmExperimentalWarning)\n",
    "\n",
    "\n",
    "# Further sample the test data to be mindful of the free-tier quota.\n",
    "df_baseline_eval = sample_data(df_test, 2, '.*')\n",
    "\n",
    "# Make predictions using the sampled data.\n",
    "df_baseline_eval['Prediction'] = df_baseline_eval['Text'].progress_apply(predict_label)\n",
    "\n",
    "# And calculate the accuracy.\n",
    "accuracy = (df_baseline_eval[\"Class Name\"] == df_baseline_eval[\"Prediction\"]).sum() / len(df_baseline_eval)\n",
    "print(f\"Accuracy: {accuracy:.2%}\")"
   ]
  },
  {
   "cell_type": "markdown",
   "id": "5a826a77",
   "metadata": {
    "papermill": {
     "duration": 0.013675,
     "end_time": "2025-04-04T04:48:11.494834",
     "exception": false,
     "start_time": "2025-04-04T04:48:11.481159",
     "status": "completed"
    },
    "tags": []
   },
   "source": [
    "Now take a look at the dataframe to compare the predictions with the labels."
   ]
  },
  {
   "cell_type": "code",
   "execution_count": 17,
   "id": "47c0807d",
   "metadata": {
    "execution": {
     "iopub.execute_input": "2025-04-04T04:48:13.277181Z",
     "iopub.status.busy": "2025-04-04T04:48:13.276498Z",
     "iopub.status.idle": "2025-04-04T04:48:13.288450Z",
     "shell.execute_reply": "2025-04-04T04:48:13.287434Z"
    },
    "papermill": {
     "duration": 1.780394,
     "end_time": "2025-04-04T04:48:13.290682",
     "exception": false,
     "start_time": "2025-04-04T04:48:11.510288",
     "status": "completed"
    },
    "tags": []
   },
   "outputs": [
    {
     "data": {
      "text/html": [
       "<div>\n",
       "<style scoped>\n",
       "    .dataframe tbody tr th:only-of-type {\n",
       "        vertical-align: middle;\n",
       "    }\n",
       "\n",
       "    .dataframe tbody tr th {\n",
       "        vertical-align: top;\n",
       "    }\n",
       "\n",
       "    .dataframe thead th {\n",
       "        text-align: right;\n",
       "    }\n",
       "</style>\n",
       "<table border=\"1\" class=\"dataframe\">\n",
       "  <thead>\n",
       "    <tr style=\"text-align: right;\">\n",
       "      <th></th>\n",
       "      <th>Text</th>\n",
       "      <th>Label</th>\n",
       "      <th>Class Name</th>\n",
       "      <th>Prediction</th>\n",
       "    </tr>\n",
       "  </thead>\n",
       "  <tbody>\n",
       "    <tr>\n",
       "      <th>0</th>\n",
       "      <td>RE: IMPALA SS GOING INTO\\n\\n\\nIn a previous ar...</td>\n",
       "      <td>7</td>\n",
       "      <td>rec.autos</td>\n",
       "      <td>rec.autos.misc</td>\n",
       "    </tr>\n",
       "    <tr>\n",
       "      <th>1</th>\n",
       "      <td>Re: WARNING.....(please read)...\\n\\n\\nIn artic...</td>\n",
       "      <td>7</td>\n",
       "      <td>rec.autos</td>\n",
       "      <td>talk.politics.guns</td>\n",
       "    </tr>\n",
       "    <tr>\n",
       "      <th>2</th>\n",
       "      <td>Re: Krypto cables (was Re: Cobra Locks)\\n\\nHi....</td>\n",
       "      <td>8</td>\n",
       "      <td>rec.motorcycles</td>\n",
       "      <td>rec.motorcycles</td>\n",
       "    </tr>\n",
       "    <tr>\n",
       "      <th>3</th>\n",
       "      <td>Dual-Sport recomendations\\n\\n\\nI am looking at...</td>\n",
       "      <td>8</td>\n",
       "      <td>rec.motorcycles</td>\n",
       "      <td>rec.motorcycles</td>\n",
       "    </tr>\n",
       "    <tr>\n",
       "      <th>4</th>\n",
       "      <td>Re: Best Homeruns\\n &lt;&gt;\\n\\nMike Schmidt's 500th...</td>\n",
       "      <td>9</td>\n",
       "      <td>rec.sport.baseball</td>\n",
       "      <td>rec.sports.baseball</td>\n",
       "    </tr>\n",
       "    <tr>\n",
       "      <th>5</th>\n",
       "      <td>Rusty's religion\\n\\nAs I recall from Kieth Her...</td>\n",
       "      <td>9</td>\n",
       "      <td>rec.sport.baseball</td>\n",
       "      <td>rec.sports.baseball</td>\n",
       "    </tr>\n",
       "    <tr>\n",
       "      <th>6</th>\n",
       "      <td>Re: ESPN UP YOURS .........\\n\\n&gt;\\n&gt;[Various ju...</td>\n",
       "      <td>10</td>\n",
       "      <td>rec.sport.hockey</td>\n",
       "      <td>rec.sports.hockey</td>\n",
       "    </tr>\n",
       "    <tr>\n",
       "      <th>7</th>\n",
       "      <td>Re: WC/Finland\\n\\nIn &lt;&gt;  (David Stein) writes:...</td>\n",
       "      <td>10</td>\n",
       "      <td>rec.sport.hockey</td>\n",
       "      <td>rec.sport.hockey</td>\n",
       "    </tr>\n",
       "    <tr>\n",
       "      <th>8</th>\n",
       "      <td>One-time pad authentication?\\n\\n   I can think...</td>\n",
       "      <td>11</td>\n",
       "      <td>sci.crypt</td>\n",
       "      <td>sci.crypt</td>\n",
       "    </tr>\n",
       "    <tr>\n",
       "      <th>9</th>\n",
       "      <td>Re: THE CLIPPER CHIP: A TECHNICAL SUMMARY\\n\\n\\...</td>\n",
       "      <td>11</td>\n",
       "      <td>sci.crypt</td>\n",
       "      <td>(error)</td>\n",
       "    </tr>\n",
       "    <tr>\n",
       "      <th>10</th>\n",
       "      <td>Re: 8x oversampling CD player\\n\\n In a previou...</td>\n",
       "      <td>12</td>\n",
       "      <td>sci.electronics</td>\n",
       "      <td>rec.audio.digital</td>\n",
       "    </tr>\n",
       "    <tr>\n",
       "      <th>11</th>\n",
       "      <td>Re: Can Radio Freq. Be Used To Measure Distanc...</td>\n",
       "      <td>12</td>\n",
       "      <td>sci.electronics</td>\n",
       "      <td>sci.electronics</td>\n",
       "    </tr>\n",
       "    <tr>\n",
       "      <th>12</th>\n",
       "      <td>Re: Krillean Photography\\n\\n\\nPoor person's Ki...</td>\n",
       "      <td>13</td>\n",
       "      <td>sci.med</td>\n",
       "      <td>alt.photography</td>\n",
       "    </tr>\n",
       "    <tr>\n",
       "      <th>13</th>\n",
       "      <td>Re: feverfew for migraines\\n\\nIn article &lt;&gt;  (...</td>\n",
       "      <td>13</td>\n",
       "      <td>sci.med</td>\n",
       "      <td>alt.support.migraine</td>\n",
       "    </tr>\n",
       "    <tr>\n",
       "      <th>14</th>\n",
       "      <td>Re: Space Marketing would be wonderfull.\\n\\n&gt;&gt;...</td>\n",
       "      <td>14</td>\n",
       "      <td>sci.space</td>\n",
       "      <td>sci.astro.amateur</td>\n",
       "    </tr>\n",
       "    <tr>\n",
       "      <th>15</th>\n",
       "      <td>Re: Boeing TSTO (Was: Words from Chairman of B...</td>\n",
       "      <td>14</td>\n",
       "      <td>sci.space</td>\n",
       "      <td>alt.space.shuttle</td>\n",
       "    </tr>\n",
       "  </tbody>\n",
       "</table>\n",
       "</div>"
      ],
      "text/plain": [
       "                                                 Text  Label  \\\n",
       "0   RE: IMPALA SS GOING INTO\\n\\n\\nIn a previous ar...      7   \n",
       "1   Re: WARNING.....(please read)...\\n\\n\\nIn artic...      7   \n",
       "2   Re: Krypto cables (was Re: Cobra Locks)\\n\\nHi....      8   \n",
       "3   Dual-Sport recomendations\\n\\n\\nI am looking at...      8   \n",
       "4   Re: Best Homeruns\\n <>\\n\\nMike Schmidt's 500th...      9   \n",
       "5   Rusty's religion\\n\\nAs I recall from Kieth Her...      9   \n",
       "6   Re: ESPN UP YOURS .........\\n\\n>\\n>[Various ju...     10   \n",
       "7   Re: WC/Finland\\n\\nIn <>  (David Stein) writes:...     10   \n",
       "8   One-time pad authentication?\\n\\n   I can think...     11   \n",
       "9   Re: THE CLIPPER CHIP: A TECHNICAL SUMMARY\\n\\n\\...     11   \n",
       "10  Re: 8x oversampling CD player\\n\\n In a previou...     12   \n",
       "11  Re: Can Radio Freq. Be Used To Measure Distanc...     12   \n",
       "12  Re: Krillean Photography\\n\\n\\nPoor person's Ki...     13   \n",
       "13  Re: feverfew for migraines\\n\\nIn article <>  (...     13   \n",
       "14  Re: Space Marketing would be wonderfull.\\n\\n>>...     14   \n",
       "15  Re: Boeing TSTO (Was: Words from Chairman of B...     14   \n",
       "\n",
       "            Class Name            Prediction  \n",
       "0            rec.autos        rec.autos.misc  \n",
       "1            rec.autos    talk.politics.guns  \n",
       "2      rec.motorcycles       rec.motorcycles  \n",
       "3      rec.motorcycles       rec.motorcycles  \n",
       "4   rec.sport.baseball   rec.sports.baseball  \n",
       "5   rec.sport.baseball   rec.sports.baseball  \n",
       "6     rec.sport.hockey     rec.sports.hockey  \n",
       "7     rec.sport.hockey      rec.sport.hockey  \n",
       "8            sci.crypt             sci.crypt  \n",
       "9            sci.crypt               (error)  \n",
       "10     sci.electronics     rec.audio.digital  \n",
       "11     sci.electronics       sci.electronics  \n",
       "12             sci.med       alt.photography  \n",
       "13             sci.med  alt.support.migraine  \n",
       "14           sci.space     sci.astro.amateur  \n",
       "15           sci.space     alt.space.shuttle  "
      ]
     },
     "execution_count": 17,
     "metadata": {},
     "output_type": "execute_result"
    }
   ],
   "source": [
    "df_baseline_eval"
   ]
  },
  {
   "cell_type": "markdown",
   "id": "40a0a09f",
   "metadata": {
    "id": "Ok7ugrLzcghX",
    "papermill": {
     "duration": 0.009325,
     "end_time": "2025-04-04T04:48:13.310032",
     "exception": false,
     "start_time": "2025-04-04T04:48:13.300707",
     "status": "completed"
    },
    "tags": []
   },
   "source": [
    "## Tune a custom model\n",
    "\n",
    "In this example you'll use tuning to create a model that requires no prompting or system instructions and outputs succinct text from the classes you provide in the training data.\n",
    "\n",
    "The data contains both input text (the processed posts) and output text (the category, or newsgroup), that you can use to start tuning a model.\n",
    "\n",
    "When calling `tune()`, you can specify model tuning hyperparameters too:\n",
    " - `epoch_count`: defines how many times to loop through the data,\n",
    " - `batch_size`: defines how many rows to process in a single step, and\n",
    " - `learning_rate`: defines the scaling factor for updating model weights at each step.\n",
    "\n",
    "You can also choose to omit them and use the defaults. [Learn more](https://developers.google.com/machine-learning/crash-course/linear-regression/hyperparameters) about these parameters and how they work. For this example these parameters were selected by running some tuning jobs and selecting parameters that converged efficiently.\n",
    "\n",
    "This example will start a new tuning job, but only if one does not already exist. This allows you to leave this codelab and come back later - re-running this step will find your last model."
   ]
  },
  {
   "cell_type": "code",
   "execution_count": 18,
   "id": "f52ef8f6",
   "metadata": {
    "execution": {
     "iopub.execute_input": "2025-04-04T04:48:13.331382Z",
     "iopub.status.busy": "2025-04-04T04:48:13.331005Z",
     "iopub.status.idle": "2025-04-04T04:48:13.417948Z",
     "shell.execute_reply": "2025-04-04T04:48:13.416894Z"
    },
    "id": "pWOZlspfY8dV",
    "papermill": {
     "duration": 0.100145,
     "end_time": "2025-04-04T04:48:13.420167",
     "exception": false,
     "start_time": "2025-04-04T04:48:13.320022",
     "status": "completed"
    },
    "tags": []
   },
   "outputs": [
    {
     "name": "stdout",
     "output_type": "stream",
     "text": [
      "Found queued model, still waiting.\n",
      "tunedModels/newsgroup-classification-model-7su8okstg\n"
     ]
    }
   ],
   "source": [
    "from collections.abc import Iterable\n",
    "import random\n",
    "\n",
    "\n",
    "# Convert the data frame into a dataset suitable for tuning.\n",
    "input_data = {'examples': \n",
    "    df_train[['Text', 'Class Name']]\n",
    "      .rename(columns={'Text': 'textInput', 'Class Name': 'output'})\n",
    "      .to_dict(orient='records')\n",
    " }\n",
    "\n",
    "# If you are re-running this lab, add your model_id here.\n",
    "model_id = None\n",
    "\n",
    "# Or try and find a recent tuning job.\n",
    "if not model_id:\n",
    "  queued_model = None\n",
    "  # Newest models first.\n",
    "  for m in reversed(client.tunings.list()):\n",
    "    # Only look at newsgroup classification models.\n",
    "    if m.name.startswith('tunedModels/newsgroup-classification-model'):\n",
    "      # If there is a completed model, use the first (newest) one.\n",
    "      if m.state.name == 'JOB_STATE_SUCCEEDED':\n",
    "        model_id = m.name\n",
    "        print('Found existing tuned model to reuse.')\n",
    "        break\n",
    "\n",
    "      elif m.state.name == 'JOB_STATE_RUNNING' and not queued_model:\n",
    "        # If there's a model still queued, remember the most recent one.\n",
    "        queued_model = m.name\n",
    "  else:\n",
    "    if queued_model:\n",
    "      model_id = queued_model\n",
    "      print('Found queued model, still waiting.')\n",
    "\n",
    "\n",
    "# Upload the training data and queue the tuning job.\n",
    "if not model_id:\n",
    "    tuning_op = client.tunings.tune(\n",
    "        base_model=\"models/gemini-1.5-flash-001-tuning\",\n",
    "        training_dataset=input_data,\n",
    "        config=types.CreateTuningJobConfig(\n",
    "            tuned_model_display_name=\"Newsgroup classification model\",\n",
    "            batch_size=16,\n",
    "            epoch_count=2,\n",
    "        ),\n",
    "    )\n",
    "\n",
    "    print(tuning_op.state)\n",
    "    model_id = tuning_op.name\n",
    "\n",
    "print(model_id)"
   ]
  },
  {
   "cell_type": "markdown",
   "id": "c3d8a2f6",
   "metadata": {
    "id": "NQ3YZ2MBubCY",
    "papermill": {
     "duration": 0.009492,
     "end_time": "2025-04-04T04:48:13.439401",
     "exception": false,
     "start_time": "2025-04-04T04:48:13.429909",
     "status": "completed"
    },
    "tags": []
   },
   "source": [
    "This has created a tuning job that will run in the background. To inspect the progress of the tuning job, run this cell to plot the current status and loss curve. Once the status reaches `ACTIVE`, tuning is complete and the model is ready to use.\n",
    "\n",
    "Tuning jobs are queued, so it may look like no training steps have been taken initially but it will progress. Tuning can take anywhere from a few minutes to multiple hours, depending on factors like your dataset size and how busy the tuning infrastrature is. Why not treat yourself to a nice cup of tea while you wait, or come and say \"Hi!\" in the group [Discord](https://discord.com/invite/kaggle).\n",
    "\n",
    "It is safe to stop this cell at any point. It will not stop the tuning job.\n",
    "\n",
    "**IMPORTANT**: Due to the high volume of users doing this course, tuning jobs may be queued for many hours. Take a note of your tuned model ID above (`tunedModels/...`) so you can come back to it tomorrow. In the meantime, check out the [Search grounding](https://www.kaggle.com/code/markishere/day-4-google-search-grounding/) codelab. If you want to try tuning a local LLM, check out [the fine-tuning guides for tuning a Gemma model](https://ai.google.dev/gemma/docs/tune)."
   ]
  },
  {
   "cell_type": "code",
   "execution_count": 19,
   "id": "88e41532",
   "metadata": {
    "execution": {
     "iopub.execute_input": "2025-04-04T04:48:13.460528Z",
     "iopub.status.busy": "2025-04-04T04:48:13.460135Z",
     "iopub.status.idle": "2025-04-04T04:49:14.325887Z",
     "shell.execute_reply": "2025-04-04T04:49:14.324662Z"
    },
    "id": "c4ef5f13692d",
    "papermill": {
     "duration": 60.878979,
     "end_time": "2025-04-04T04:49:14.328128",
     "exception": false,
     "start_time": "2025-04-04T04:48:13.449149",
     "status": "completed"
    },
    "tags": []
   },
   "outputs": [
    {
     "name": "stdout",
     "output_type": "stream",
     "text": [
      "JobState.JOB_STATE_RUNNING\n",
      "Taking a shortcut, using a previously prepared model.\n",
      "Done! The model state is: JOB_STATE_SUCCEEDED\n"
     ]
    }
   ],
   "source": [
    "import datetime\n",
    "import time\n",
    "\n",
    "\n",
    "MAX_WAIT = datetime.timedelta(minutes=10)\n",
    "\n",
    "while not (tuned_model := client.tunings.get(name=model_id)).has_ended:\n",
    "\n",
    "    print(tuned_model.state)\n",
    "    time.sleep(60)\n",
    "\n",
    "    # Don't wait too long. Use a public model if this is going to take a while.\n",
    "    if datetime.datetime.now(datetime.timezone.utc) - tuned_model.create_time > MAX_WAIT:\n",
    "        print(\"Taking a shortcut, using a previously prepared model.\")\n",
    "        model_id = \"tunedModels/newsgroup-classification-model-ltenbi1b\"\n",
    "        tuned_model = client.tunings.get(name=model_id)\n",
    "        break\n",
    "\n",
    "\n",
    "print(f\"Done! The model state is: {tuned_model.state.name}\")\n",
    "\n",
    "if not tuned_model.has_succeeded and tuned_model.error:\n",
    "    print(\"Error:\", tuned_model.error)"
   ]
  },
  {
   "cell_type": "markdown",
   "id": "0c0d4b04",
   "metadata": {
    "id": "9-qiIdK4u80z",
    "papermill": {
     "duration": 0.009583,
     "end_time": "2025-04-04T04:49:14.347616",
     "exception": false,
     "start_time": "2025-04-04T04:49:14.338033",
     "status": "completed"
    },
    "tags": []
   },
   "source": [
    "## Use the new model\n",
    "\n",
    "Now that you have a tuned model, try it out with custom data. You use the same API as a normal Gemini API interaction, but you specify your new model as the model name, which will start with `tunedModels/`."
   ]
  },
  {
   "cell_type": "code",
   "execution_count": 20,
   "id": "7bc24a20",
   "metadata": {
    "execution": {
     "iopub.execute_input": "2025-04-04T04:49:14.369185Z",
     "iopub.status.busy": "2025-04-04T04:49:14.368813Z",
     "iopub.status.idle": "2025-04-04T04:49:15.088252Z",
     "shell.execute_reply": "2025-04-04T04:49:15.087238Z"
    },
    "id": "hyO2-MXLvM6a",
    "papermill": {
     "duration": 0.732904,
     "end_time": "2025-04-04T04:49:15.090487",
     "exception": false,
     "start_time": "2025-04-04T04:49:14.357583",
     "status": "completed"
    },
    "tags": []
   },
   "outputs": [
    {
     "name": "stdout",
     "output_type": "stream",
     "text": [
      "sci.space\n"
     ]
    }
   ],
   "source": [
    "new_text = \"\"\"\n",
    "First-timer looking to get out of here.\n",
    "\n",
    "Hi, I'm writing about my interest in travelling to the outer limits!\n",
    "\n",
    "What kind of craft can I buy? What is easiest to access from this 3rd rock?\n",
    "\n",
    "Let me know how to do that please.\n",
    "\"\"\"\n",
    "\n",
    "response = client.models.generate_content(\n",
    "    model=model_id, contents=new_text)\n",
    "\n",
    "print(response.text)"
   ]
  },
  {
   "cell_type": "markdown",
   "id": "afc63928",
   "metadata": {
    "id": "xajLek9DySH_",
    "papermill": {
     "duration": 0.009724,
     "end_time": "2025-04-04T04:49:15.110085",
     "exception": false,
     "start_time": "2025-04-04T04:49:15.100361",
     "status": "completed"
    },
    "tags": []
   },
   "source": [
    "### Evaluation\n",
    "\n",
    "You can see that the model outputs labels that correspond to those in the training data, and without any system instructions or prompting, which is already a great improvement. Now see how well it performs on the test set.\n",
    "\n",
    "Note that there is no parallelism in this example; classifying the test sub-set will take a few minutes."
   ]
  },
  {
   "cell_type": "code",
   "execution_count": 21,
   "id": "92ca3bfb",
   "metadata": {
    "execution": {
     "iopub.execute_input": "2025-04-04T04:49:15.131548Z",
     "iopub.status.busy": "2025-04-04T04:49:15.131162Z",
     "iopub.status.idle": "2025-04-04T04:51:07.512351Z",
     "shell.execute_reply": "2025-04-04T04:51:07.511252Z"
    },
    "id": "6T2Y3ZApvbMw",
    "papermill": {
     "duration": 112.395,
     "end_time": "2025-04-04T04:51:07.515061",
     "exception": false,
     "start_time": "2025-04-04T04:49:15.120061",
     "status": "completed"
    },
    "tags": []
   },
   "outputs": [
    {
     "data": {
      "application/vnd.jupyter.widget-view+json": {
       "model_id": "1204889457cf4b4d80d8462143ae7be6",
       "version_major": 2,
       "version_minor": 0
      },
      "text/plain": [
       "Output()"
      ]
     },
     "metadata": {},
     "output_type": "display_data"
    },
    {
     "data": {
      "text/html": [
       "<pre style=\"white-space:pre;overflow-x:auto;line-height:normal;font-family:Menlo,'DejaVu Sans Mono',consolas,'Courier New',monospace\"></pre>\n"
      ],
      "text/plain": []
     },
     "metadata": {},
     "output_type": "display_data"
    },
    {
     "data": {
      "text/html": [
       "<pre style=\"white-space:pre;overflow-x:auto;line-height:normal;font-family:Menlo,'DejaVu Sans Mono',consolas,'Courier New',monospace\">\n",
       "</pre>\n"
      ],
      "text/plain": [
       "\n"
      ]
     },
     "metadata": {},
     "output_type": "display_data"
    },
    {
     "name": "stdout",
     "output_type": "stream",
     "text": [
      "Accuracy: 96.88%\n"
     ]
    }
   ],
   "source": [
    "@retry.Retry(predicate=is_retriable)\n",
    "def classify_text(text: str) -> str:\n",
    "    \"\"\"Classify the provided text into a known newsgroup.\"\"\"\n",
    "    response = client.models.generate_content(\n",
    "        model=model_id, contents=text)\n",
    "    rc = response.candidates[0]\n",
    "\n",
    "    # Any errors, filters, recitation, etc we can mark as a general error\n",
    "    if rc.finish_reason.name != \"STOP\":\n",
    "        return \"(error)\"\n",
    "    else:\n",
    "        return rc.content.parts[0].text\n",
    "\n",
    "\n",
    "# The sampling here is just to minimise your quota usage. If you can, you should\n",
    "# evaluate the whole test set with `df_model_eval = df_test.copy()`.\n",
    "df_model_eval = sample_data(df_test, 4, '.*')\n",
    "\n",
    "df_model_eval[\"Prediction\"] = df_model_eval[\"Text\"].progress_apply(classify_text)\n",
    "\n",
    "accuracy = (df_model_eval[\"Class Name\"] == df_model_eval[\"Prediction\"]).sum() / len(df_model_eval)\n",
    "print(f\"Accuracy: {accuracy:.2%}\")"
   ]
  },
  {
   "cell_type": "markdown",
   "id": "a37337e3",
   "metadata": {
    "papermill": {
     "duration": 0.015522,
     "end_time": "2025-04-04T04:51:07.546623",
     "exception": false,
     "start_time": "2025-04-04T04:51:07.531101",
     "status": "completed"
    },
    "tags": []
   },
   "source": [
    "## Compare token usage\n",
    "\n",
    "AI Studio and the Gemini API provide model tuning at no cost, however normal limits and charges apply for *use* of a tuned model.\n",
    "\n",
    "The size of the input prompt and other generation config like system instructions, as well as the number of generated output tokens, all contribute to the overall cost of a request."
   ]
  },
  {
   "cell_type": "code",
   "execution_count": 22,
   "id": "985bb2b9",
   "metadata": {
    "execution": {
     "iopub.execute_input": "2025-04-04T04:51:10.720322Z",
     "iopub.status.busy": "2025-04-04T04:51:10.720029Z",
     "iopub.status.idle": "2025-04-04T04:51:11.000775Z",
     "shell.execute_reply": "2025-04-04T04:51:10.999531Z"
    },
    "papermill": {
     "duration": 3.438741,
     "end_time": "2025-04-04T04:51:11.002885",
     "exception": false,
     "start_time": "2025-04-04T04:51:07.564144",
     "status": "completed"
    },
    "tags": []
   },
   "outputs": [
    {
     "name": "stdout",
     "output_type": "stream",
     "text": [
      "System instructed baseline model: 172 (input)\n",
      "Tuned model: 136 (input)\n",
      "Token savings: 26.47%\n"
     ]
    }
   ],
   "source": [
    "# Calculate the *input* cost of the baseline model with system instructions.\n",
    "sysint_tokens = client.models.count_tokens(\n",
    "    model='gemini-1.5-flash-001', contents=[system_instruct, sample_row]\n",
    ").total_tokens\n",
    "print(f'System instructed baseline model: {sysint_tokens} (input)')\n",
    "\n",
    "# Calculate the input cost of the tuned model.\n",
    "tuned_tokens = client.models.count_tokens(model=tuned_model.base_model, contents=sample_row).total_tokens\n",
    "print(f'Tuned model: {tuned_tokens} (input)')\n",
    "\n",
    "savings = (sysint_tokens - tuned_tokens) / tuned_tokens\n",
    "print(f'Token savings: {savings:.2%}')  # Note that this is only n=1."
   ]
  },
  {
   "cell_type": "markdown",
   "id": "bf525010",
   "metadata": {
    "papermill": {
     "duration": 0.01023,
     "end_time": "2025-04-04T04:51:11.023741",
     "exception": false,
     "start_time": "2025-04-04T04:51:11.013511",
     "status": "completed"
    },
    "tags": []
   },
   "source": [
    "The earlier verbose model also produced more output tokens than needed for this task."
   ]
  },
  {
   "cell_type": "code",
   "execution_count": 23,
   "id": "070458cd",
   "metadata": {
    "execution": {
     "iopub.execute_input": "2025-04-04T04:51:11.046653Z",
     "iopub.status.busy": "2025-04-04T04:51:11.046270Z",
     "iopub.status.idle": "2025-04-04T04:51:11.964712Z",
     "shell.execute_reply": "2025-04-04T04:51:11.963521Z"
    },
    "papermill": {
     "duration": 0.932429,
     "end_time": "2025-04-04T04:51:11.966864",
     "exception": false,
     "start_time": "2025-04-04T04:51:11.034435",
     "status": "completed"
    },
    "tags": []
   },
   "outputs": [
    {
     "name": "stdout",
     "output_type": "stream",
     "text": [
      "Baseline (verbose) output tokens: 137\n",
      "Tuned output tokens: 3\n"
     ]
    }
   ],
   "source": [
    "baseline_token_output = baseline_response.usage_metadata.candidates_token_count\n",
    "print('Baseline (verbose) output tokens:', baseline_token_output)\n",
    "\n",
    "tuned_model_output = client.models.generate_content(\n",
    "    model=model_id, contents=sample_row)\n",
    "tuned_tokens_output = tuned_model_output.usage_metadata.candidates_token_count\n",
    "print('Tuned output tokens:', tuned_tokens_output)"
   ]
  },
  {
   "cell_type": "markdown",
   "id": "33e242c6",
   "metadata": {
    "id": "6c1204a5d0ab",
    "papermill": {
     "duration": 0.01008,
     "end_time": "2025-04-04T04:51:11.987510",
     "exception": false,
     "start_time": "2025-04-04T04:51:11.977430",
     "status": "completed"
    },
    "tags": []
   },
   "source": [
    "## Next steps\n",
    "\n",
    "Now that you have tuned a classification model, try some other tasks, like tuning a model to respond with a specific tone or style using hand-written examples (or even generated examples!). Kaggle hosts [a number of datasets](https://www.kaggle.com/datasets) you can try out.\n",
    "\n",
    "Learn about [when supervised fine-tuning is most effective](https://cloud.google.com/blog/products/ai-machine-learning/supervised-fine-tuning-for-gemini-llm).\n",
    "\n",
    "And check out the [fine-tuning tutorial](https://ai.google.dev/gemini-api/docs/model-tuning/tutorial?hl=en&lang=python) for another example that shows a tuned model extending beyond the training data to new, unseen inputs.\n",
    "\n",
    "*- [Mark McD](https://linktr.ee/markmcd)*"
   ]
  }
 ],
 "metadata": {
  "colab": {
   "name": "day-4-fine-tuning-a-custom-model.ipynb",
   "toc_visible": true
  },
  "kaggle": {
   "accelerator": "none",
   "dataSources": [],
   "dockerImageVersionId": 30786,
   "isGpuEnabled": false,
   "isInternetEnabled": true,
   "language": "python",
   "sourceType": "notebook"
  },
  "kernelspec": {
   "display_name": "Python 3",
   "language": "python",
   "name": "python3"
  },
  "language_info": {
   "codemirror_mode": {
    "name": "ipython",
    "version": 3
   },
   "file_extension": ".py",
   "mimetype": "text/x-python",
   "name": "python",
   "nbconvert_exporter": "python",
   "pygments_lexer": "ipython3",
   "version": "3.10.14"
  },
  "papermill": {
   "default_parameters": {},
   "duration": 293.253646,
   "end_time": "2025-04-04T04:51:13.021673",
   "environment_variables": {},
   "exception": null,
   "input_path": "__notebook__.ipynb",
   "output_path": "__notebook__.ipynb",
   "parameters": {},
   "start_time": "2025-04-04T04:46:19.768027",
   "version": "2.6.0"
  },
  "widgets": {
   "application/vnd.jupyter.widget-state+json": {
    "state": {
     "0d04dd0065f94518b4e9d9943ad143a3": {
      "model_module": "@jupyter-widgets/output",
      "model_module_version": "1.0.0",
      "model_name": "OutputModel",
      "state": {
       "_dom_classes": [],
       "_model_module": "@jupyter-widgets/output",
       "_model_module_version": "1.0.0",
       "_model_name": "OutputModel",
       "_view_count": null,
       "_view_module": "@jupyter-widgets/output",
       "_view_module_version": "1.0.0",
       "_view_name": "OutputView",
       "layout": "IPY_MODEL_fa8d94dcc87f4bc5872bc44e8c454d1c",
       "msg_id": "",
       "outputs": [
        {
         "data": {
          "text/html": "<pre style=\"white-space:pre;overflow-x:auto;line-height:normal;font-family:Menlo,'DejaVu Sans Mono',consolas,'Courier New',monospace\"><span style=\"color: #800080; text-decoration-color: #800080\"> 100%</span> <span style=\"color: #729c1f; text-decoration-color: #729c1f\">━━━━━━━━━━━━━━━━━━━━━━━━━━━━━━━━━━━━━━━━━━━━━━━━━━━━━━━━━━━━━━━━━━━━━━━</span> <span style=\"color: #008000; text-decoration-color: #008000\">16/16 </span> [ <span style=\"color: #808000; text-decoration-color: #808000\">0:01:00</span> &lt; <span style=\"color: #008080; text-decoration-color: #008080\">0:00:00</span> , <span style=\"color: #800000; text-decoration-color: #800000\">3 it/s</span> ]\n</pre>\n",
          "text/plain": "\u001b[35m 100%\u001b[0m \u001b[38;2;114;156;31m━━━━━━━━━━━━━━━━━━━━━━━━━━━━━━━━━━━━━━━━━━━━━━━━━━━━━━━━━━━━━━━━━━━━━━━\u001b[0m \u001b[32m16/16 \u001b[0m [ \u001b[33m0:01:00\u001b[0m < \u001b[36m0:00:00\u001b[0m , \u001b[31m3 it/s\u001b[0m ]\n"
         },
         "metadata": {},
         "output_type": "display_data"
        }
       ]
      }
     },
     "1204889457cf4b4d80d8462143ae7be6": {
      "model_module": "@jupyter-widgets/output",
      "model_module_version": "1.0.0",
      "model_name": "OutputModel",
      "state": {
       "_dom_classes": [],
       "_model_module": "@jupyter-widgets/output",
       "_model_module_version": "1.0.0",
       "_model_name": "OutputModel",
       "_view_count": null,
       "_view_module": "@jupyter-widgets/output",
       "_view_module_version": "1.0.0",
       "_view_name": "OutputView",
       "layout": "IPY_MODEL_2e3288d277d1485bafeadcdb438fcdcf",
       "msg_id": "",
       "outputs": [
        {
         "data": {
          "text/html": "<pre style=\"white-space:pre;overflow-x:auto;line-height:normal;font-family:Menlo,'DejaVu Sans Mono',consolas,'Courier New',monospace\"><span style=\"color: #800080; text-decoration-color: #800080\"> 100%</span> <span style=\"color: #729c1f; text-decoration-color: #729c1f\">━━━━━━━━━━━━━━━━━━━━━━━━━━━━━━━━━━━━━━━━━━━━━━━━━━━━━━━━━━━━━━━━━━━━━━━</span> <span style=\"color: #008000; text-decoration-color: #008000\">32/32 </span> [ <span style=\"color: #808000; text-decoration-color: #808000\">0:01:08</span> &lt; <span style=\"color: #008080; text-decoration-color: #008080\">0:00:00</span> , <span style=\"color: #800000; text-decoration-color: #800000\">1 it/s</span> ]\n</pre>\n",
          "text/plain": "\u001b[35m 100%\u001b[0m \u001b[38;2;114;156;31m━━━━━━━━━━━━━━━━━━━━━━━━━━━━━━━━━━━━━━━━━━━━━━━━━━━━━━━━━━━━━━━━━━━━━━━\u001b[0m \u001b[32m32/32 \u001b[0m [ \u001b[33m0:01:08\u001b[0m < \u001b[36m0:00:00\u001b[0m , \u001b[31m1 it/s\u001b[0m ]\n"
         },
         "metadata": {},
         "output_type": "display_data"
        }
       ]
      }
     },
     "2e3288d277d1485bafeadcdb438fcdcf": {
      "model_module": "@jupyter-widgets/base",
      "model_module_version": "1.2.0",
      "model_name": "LayoutModel",
      "state": {
       "_model_module": "@jupyter-widgets/base",
       "_model_module_version": "1.2.0",
       "_model_name": "LayoutModel",
       "_view_count": null,
       "_view_module": "@jupyter-widgets/base",
       "_view_module_version": "1.2.0",
       "_view_name": "LayoutView",
       "align_content": null,
       "align_items": null,
       "align_self": null,
       "border": null,
       "bottom": null,
       "display": null,
       "flex": null,
       "flex_flow": null,
       "grid_area": null,
       "grid_auto_columns": null,
       "grid_auto_flow": null,
       "grid_auto_rows": null,
       "grid_column": null,
       "grid_gap": null,
       "grid_row": null,
       "grid_template_areas": null,
       "grid_template_columns": null,
       "grid_template_rows": null,
       "height": null,
       "justify_content": null,
       "justify_items": null,
       "left": null,
       "margin": null,
       "max_height": null,
       "max_width": null,
       "min_height": null,
       "min_width": null,
       "object_fit": null,
       "object_position": null,
       "order": null,
       "overflow": null,
       "overflow_x": null,
       "overflow_y": null,
       "padding": null,
       "right": null,
       "top": null,
       "visibility": null,
       "width": null
      }
     },
     "fa8d94dcc87f4bc5872bc44e8c454d1c": {
      "model_module": "@jupyter-widgets/base",
      "model_module_version": "1.2.0",
      "model_name": "LayoutModel",
      "state": {
       "_model_module": "@jupyter-widgets/base",
       "_model_module_version": "1.2.0",
       "_model_name": "LayoutModel",
       "_view_count": null,
       "_view_module": "@jupyter-widgets/base",
       "_view_module_version": "1.2.0",
       "_view_name": "LayoutView",
       "align_content": null,
       "align_items": null,
       "align_self": null,
       "border": null,
       "bottom": null,
       "display": null,
       "flex": null,
       "flex_flow": null,
       "grid_area": null,
       "grid_auto_columns": null,
       "grid_auto_flow": null,
       "grid_auto_rows": null,
       "grid_column": null,
       "grid_gap": null,
       "grid_row": null,
       "grid_template_areas": null,
       "grid_template_columns": null,
       "grid_template_rows": null,
       "height": null,
       "justify_content": null,
       "justify_items": null,
       "left": null,
       "margin": null,
       "max_height": null,
       "max_width": null,
       "min_height": null,
       "min_width": null,
       "object_fit": null,
       "object_position": null,
       "order": null,
       "overflow": null,
       "overflow_x": null,
       "overflow_y": null,
       "padding": null,
       "right": null,
       "top": null,
       "visibility": null,
       "width": null
      }
     }
    },
    "version_major": 2,
    "version_minor": 0
   }
  }
 },
 "nbformat": 4,
 "nbformat_minor": 5
}
