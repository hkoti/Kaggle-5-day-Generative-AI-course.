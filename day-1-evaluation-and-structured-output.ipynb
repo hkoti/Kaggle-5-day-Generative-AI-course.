{
 "cells": [
  {
   "cell_type": "markdown",
   "id": "f8e129c9",
   "metadata": {
    "papermill": {
     "duration": 0.007887,
     "end_time": "2025-03-31T16:18:36.557608",
     "exception": false,
     "start_time": "2025-03-31T16:18:36.549721",
     "status": "completed"
    },
    "tags": []
   },
   "source": [
    "Copyright 2025 Google LLC."
   ]
  },
  {
   "cell_type": "code",
   "execution_count": 1,
   "id": "0a26eb23",
   "metadata": {
    "execution": {
     "iopub.execute_input": "2025-03-31T16:18:36.573686Z",
     "iopub.status.busy": "2025-03-31T16:18:36.573268Z",
     "iopub.status.idle": "2025-03-31T16:18:36.578722Z",
     "shell.execute_reply": "2025-03-31T16:18:36.577695Z"
    },
    "jupyter": {
     "source_hidden": true
    },
    "papermill": {
     "duration": 0.015562,
     "end_time": "2025-03-31T16:18:36.580544",
     "exception": false,
     "start_time": "2025-03-31T16:18:36.564982",
     "status": "completed"
    },
    "tags": []
   },
   "outputs": [],
   "source": [
    "# @title Licensed under the Apache License, Version 2.0 (the \"License\");\n",
    "# you may not use this file except in compliance with the License.\n",
    "# You may obtain a copy of the License at\n",
    "#\n",
    "# https://www.apache.org/licenses/LICENSE-2.0\n",
    "#\n",
    "# Unless required by applicable law or agreed to in writing, software\n",
    "# distributed under the License is distributed on an \"AS IS\" BASIS,\n",
    "# WITHOUT WARRANTIES OR CONDITIONS OF ANY KIND, either express or implied.\n",
    "# See the License for the specific language governing permissions and\n",
    "# limitations under the License."
   ]
  },
  {
   "cell_type": "markdown",
   "id": "e473c446",
   "metadata": {
    "id": "jYWMmQV7SJt6",
    "papermill": {
     "duration": 0.006891,
     "end_time": "2025-03-31T16:18:36.594895",
     "exception": false,
     "start_time": "2025-03-31T16:18:36.588004",
     "status": "completed"
    },
    "tags": []
   },
   "source": [
    "# Day 1 - Evaluation and structured output\n",
    "\n",
    "## Overview\n",
    "\n",
    "Welcome back to the Kaggle 5-day Generative AI course. In this notebook, you'll learn some techniques for evaluating the output of a language model. As part of the evaluation, you will also use Gemini's structured data capability to produce evaluation results as instances of Python types.\n",
    "\n",
    "Note: This notebook is more code-heavy than the first Day 1 notebook ([Prompting](https://www.kaggle.com/code/markishere/day-1-prompting/)). This notebook is not a prerequisite for days 2 and beyond, so feel free to skip over it, or come back later in the week. If you have not yet tried the [Prompting](https://www.kaggle.com/code/markishere/day-1-prompting/) notebook, start there first as it introduces the fundamentals for interacting with LLMs.\n",
    "\n",
    "Also check out the **bonus whitepaper** on [Evaluating Large Language Models](https://services.google.com/fh/files/blogs/neurips_evaluation.pdf).\n",
    "\n",
    "## For help\n",
    "\n",
    "**Common issues are covered in the [FAQ and troubleshooting guide](https://www.kaggle.com/code/markishere/day-0-troubleshooting-and-faqs).**\n"
   ]
  },
  {
   "cell_type": "markdown",
   "id": "ca8afca7",
   "metadata": {
    "id": "ZrE2lTyXSMmz",
    "papermill": {
     "duration": 0.006848,
     "end_time": "2025-03-31T16:18:36.609015",
     "exception": false,
     "start_time": "2025-03-31T16:18:36.602167",
     "status": "completed"
    },
    "tags": []
   },
   "source": [
    "## Setup\n",
    "\n",
    "Install the Python SDK."
   ]
  },
  {
   "cell_type": "code",
   "execution_count": 2,
   "id": "e8544270",
   "metadata": {
    "execution": {
     "iopub.execute_input": "2025-03-31T16:18:36.624755Z",
     "iopub.status.busy": "2025-03-31T16:18:36.624374Z",
     "iopub.status.idle": "2025-03-31T16:18:43.466753Z",
     "shell.execute_reply": "2025-03-31T16:18:43.465193Z"
    },
    "id": "lEwSQePeF6w-",
    "papermill": {
     "duration": 6.852461,
     "end_time": "2025-03-31T16:18:43.468752",
     "exception": false,
     "start_time": "2025-03-31T16:18:36.616291",
     "status": "completed"
    },
    "tags": []
   },
   "outputs": [
    {
     "name": "stdout",
     "output_type": "stream",
     "text": [
      "\u001b[2K   \u001b[90m━━━━━━━━━━━━━━━━━━━━━━━━━━━━━━━━━━━━━━━━\u001b[0m \u001b[32m144.7/144.7 kB\u001b[0m \u001b[31m5.2 MB/s\u001b[0m eta \u001b[36m0:00:00\u001b[0m\r\n",
      "\u001b[2K   \u001b[90m━━━━━━━━━━━━━━━━━━━━━━━━━━━━━━━━━━━━━━━━\u001b[0m \u001b[32m100.9/100.9 kB\u001b[0m \u001b[31m5.3 MB/s\u001b[0m eta \u001b[36m0:00:00\u001b[0m\r\n",
      "\u001b[?25h"
     ]
    }
   ],
   "source": [
    "!pip install -Uq \"google-genai==1.7.0\""
   ]
  },
  {
   "cell_type": "code",
   "execution_count": 3,
   "id": "0437cf12",
   "metadata": {
    "execution": {
     "iopub.execute_input": "2025-03-31T16:18:43.485835Z",
     "iopub.status.busy": "2025-03-31T16:18:43.485471Z",
     "iopub.status.idle": "2025-03-31T16:18:44.854660Z",
     "shell.execute_reply": "2025-03-31T16:18:44.853347Z"
    },
    "id": "VWZlEwomGDir",
    "outputId": "e4e4a419-7be5-4b0e-c534-25a089c65600",
    "papermill": {
     "duration": 1.380283,
     "end_time": "2025-03-31T16:18:44.856947",
     "exception": false,
     "start_time": "2025-03-31T16:18:43.476664",
     "status": "completed"
    },
    "tags": []
   },
   "outputs": [
    {
     "data": {
      "text/plain": [
       "'1.7.0'"
      ]
     },
     "execution_count": 3,
     "metadata": {},
     "output_type": "execute_result"
    }
   ],
   "source": [
    "from google import genai\n",
    "from google.genai import types\n",
    "\n",
    "from IPython.display import Markdown, display\n",
    "\n",
    "genai.__version__"
   ]
  },
  {
   "cell_type": "markdown",
   "id": "8c3fb37c",
   "metadata": {
    "papermill": {
     "duration": 0.008144,
     "end_time": "2025-03-31T16:18:44.879511",
     "exception": false,
     "start_time": "2025-03-31T16:18:44.871367",
     "status": "completed"
    },
    "tags": []
   },
   "source": [
    "### Set up your API key\n",
    "\n",
    "To run the following cell, your API key must be stored it in a [Kaggle secret](https://www.kaggle.com/discussions/product-feedback/114053) named `GOOGLE_API_KEY`.\n",
    "\n",
    "If you don't already have an API key, you can grab one from [AI Studio](https://aistudio.google.com/app/apikey). You can find [detailed instructions in the docs](https://ai.google.dev/gemini-api/docs/api-key).\n",
    "\n",
    "To make the key available through Kaggle secrets, choose `Secrets` from the `Add-ons` menu and follow the instructions to add your key or enable it for this notebook."
   ]
  },
  {
   "cell_type": "code",
   "execution_count": 4,
   "id": "974df07a",
   "metadata": {
    "execution": {
     "iopub.execute_input": "2025-03-31T16:18:44.897689Z",
     "iopub.status.busy": "2025-03-31T16:18:44.896966Z",
     "iopub.status.idle": "2025-03-31T16:18:45.421196Z",
     "shell.execute_reply": "2025-03-31T16:18:45.420069Z"
    },
    "id": "UteFYo7jGHRf",
    "papermill": {
     "duration": 0.535543,
     "end_time": "2025-03-31T16:18:45.423249",
     "exception": false,
     "start_time": "2025-03-31T16:18:44.887706",
     "status": "completed"
    },
    "tags": []
   },
   "outputs": [],
   "source": [
    "from kaggle_secrets import UserSecretsClient\n",
    "\n",
    "client = genai.Client(api_key=UserSecretsClient().get_secret(\"GOOGLE_API_KEY\"))"
   ]
  },
  {
   "cell_type": "markdown",
   "id": "3f306f22",
   "metadata": {
    "papermill": {
     "duration": 0.007826,
     "end_time": "2025-03-31T16:18:45.438946",
     "exception": false,
     "start_time": "2025-03-31T16:18:45.431120",
     "status": "completed"
    },
    "tags": []
   },
   "source": [
    "If you received an error response along the lines of `No user secrets exist for kernel id ...`, then you need to add your API key via `Add-ons`, `Secrets` **and** enable it.\n",
    "\n",
    "![Screenshot of the checkbox to enable GOOGLE_API_KEY secret](https://storage.googleapis.com/kaggle-media/Images/5gdai_sc_3.png)"
   ]
  },
  {
   "cell_type": "markdown",
   "id": "57ea43b1",
   "metadata": {
    "id": "eCa4OX2DNyLI",
    "papermill": {
     "duration": 0.007494,
     "end_time": "2025-03-31T16:18:45.454280",
     "exception": false,
     "start_time": "2025-03-31T16:18:45.446786",
     "status": "completed"
    },
    "tags": []
   },
   "source": [
    "### Automated retry\n",
    "\n",
    "This codelab sends a lot of requests, so set up an automatic retry\n",
    "that ensures your requests are retried when per-minute quota is reached."
   ]
  },
  {
   "cell_type": "code",
   "execution_count": 5,
   "id": "f7a81881",
   "metadata": {
    "execution": {
     "iopub.execute_input": "2025-03-31T16:18:45.471334Z",
     "iopub.status.busy": "2025-03-31T16:18:45.470944Z",
     "iopub.status.idle": "2025-03-31T16:18:45.815754Z",
     "shell.execute_reply": "2025-03-31T16:18:45.814630Z"
    },
    "id": "V8as-_Hnr_cj",
    "papermill": {
     "duration": 0.356212,
     "end_time": "2025-03-31T16:18:45.818058",
     "exception": false,
     "start_time": "2025-03-31T16:18:45.461846",
     "status": "completed"
    },
    "tags": []
   },
   "outputs": [],
   "source": [
    "from google.api_core import retry\n",
    "\n",
    "is_retriable = lambda e: (isinstance(e, genai.errors.APIError) and e.code in {429, 503})\n",
    "\n",
    "if not hasattr(genai.models.Models.generate_content, '__wrapped__'):\n",
    "  genai.models.Models.generate_content = retry.Retry(\n",
    "      predicate=is_retriable)(genai.models.Models.generate_content)"
   ]
  },
  {
   "cell_type": "markdown",
   "id": "0e53d195",
   "metadata": {
    "id": "ZKH1is0gSO0p",
    "papermill": {
     "duration": 0.007473,
     "end_time": "2025-03-31T16:18:45.839374",
     "exception": false,
     "start_time": "2025-03-31T16:18:45.831901",
     "status": "completed"
    },
    "tags": []
   },
   "source": [
    "## Evaluation"
   ]
  },
  {
   "cell_type": "markdown",
   "id": "dede082c",
   "metadata": {
    "id": "ToUMpZTgGnyh",
    "papermill": {
     "duration": 0.007405,
     "end_time": "2025-03-31T16:18:45.854384",
     "exception": false,
     "start_time": "2025-03-31T16:18:45.846979",
     "status": "completed"
    },
    "tags": []
   },
   "source": [
    "When using LLMs in real-world cases, it's important to understand how well they are performing. The open-ended generation capabilities of LLMs can make many cases difficult to measure. In this notebook you will walk through some simple techniques for evaluating LLM outputs and understanding their performance.\n",
    "\n",
    "For this example, you'll evaluate a summarisation task using the [Gemini 1.5 Pro technical report](https://storage.googleapis.com/cloud-samples-data/generative-ai/pdf/2403.05530.pdf). Start by downloading the PDF to the notebook environment, and uploading that copy for use with the Gemini API."
   ]
  },
  {
   "cell_type": "code",
   "execution_count": 6,
   "id": "5391e442",
   "metadata": {
    "execution": {
     "iopub.execute_input": "2025-03-31T16:18:45.871034Z",
     "iopub.status.busy": "2025-03-31T16:18:45.870471Z",
     "iopub.status.idle": "2025-03-31T16:18:47.686119Z",
     "shell.execute_reply": "2025-03-31T16:18:47.684871Z"
    },
    "id": "VVo85Inrn65Z",
    "outputId": "52c2de9c-9665-4261-c6ba-4a6692ea9e30",
    "papermill": {
     "duration": 1.826381,
     "end_time": "2025-03-31T16:18:47.688278",
     "exception": false,
     "start_time": "2025-03-31T16:18:45.861897",
     "status": "completed"
    },
    "tags": []
   },
   "outputs": [
    {
     "name": "stdout",
     "output_type": "stream",
     "text": [
      "2025-03-31 16:18:45 URL:https://storage.googleapis.com/cloud-samples-data/generative-ai/pdf/2403.05530.pdf [7228817/7228817] -> \"gemini.pdf\" [1]\r\n"
     ]
    }
   ],
   "source": [
    "!wget -nv -O gemini.pdf https://storage.googleapis.com/cloud-samples-data/generative-ai/pdf/2403.05530.pdf\n",
    "\n",
    "document_file = client.files.upload(file='gemini.pdf')"
   ]
  },
  {
   "cell_type": "markdown",
   "id": "93b443ca",
   "metadata": {
    "id": "OziWUFKNqQEy",
    "papermill": {
     "duration": 0.007586,
     "end_time": "2025-03-31T16:18:47.703822",
     "exception": false,
     "start_time": "2025-03-31T16:18:47.696236",
     "status": "completed"
    },
    "tags": []
   },
   "source": [
    "### Summarise a document\n",
    "\n",
    "The summarisation request used here is fairly basic. It targets the training content specifically but provides no guidance otherwise."
   ]
  },
  {
   "cell_type": "code",
   "execution_count": 7,
   "id": "2590905d",
   "metadata": {
    "execution": {
     "iopub.execute_input": "2025-03-31T16:18:47.720492Z",
     "iopub.status.busy": "2025-03-31T16:18:47.720074Z",
     "iopub.status.idle": "2025-03-31T16:19:00.268174Z",
     "shell.execute_reply": "2025-03-31T16:19:00.267051Z"
    },
    "id": "Jxx92-z90tPS",
    "outputId": "1ed16b55-d456-4099-acac-04e9540c6aee",
    "papermill": {
     "duration": 12.558254,
     "end_time": "2025-03-31T16:19:00.269766",
     "exception": false,
     "start_time": "2025-03-31T16:18:47.711512",
     "status": "completed"
    },
    "tags": []
   },
   "outputs": [
    {
     "data": {
      "text/markdown": [
       "Certainly! Let's break down the training process used for Gemini 1.5 Pro, based on the information provided in the document.\n",
       "\n",
       "**Key Aspects of the Training Process:**\n",
       "\n",
       "1.  **Model Architecture:**\n",
       "    *   Gemini 1.5 Pro is a sparse Mixture-of-Experts (MoE) Transformer-based model.\n",
       "    *   It builds upon the research advances of Gemini 1.0 and a longer history of MoE research at Google.\n",
       "    *   MoE models use a learned routing function to direct inputs to a subset of the model's parameters for processing. This allows for a larger total parameter count while keeping the number of activated parameters constant.\n",
       "\n",
       "2.  **Training Infrastructure:**\n",
       "    *   Trained on multiple 4096-chip pods of Google's TPUv4 accelerators.\n",
       "    *   The training is distributed across multiple datacenters.\n",
       "\n",
       "3.  **Training Data:**\n",
       "    *   A variety of multimodal and multilingual data is used.\n",
       "    *   The pre-training dataset includes data sourced from various domains, including web documents, code, images, audio, and video content.\n",
       "\n",
       "4.  **Instruction Tuning:**\n",
       "    *   Gemini 1.5 Pro is fine-tuned on a collection of multimodal data containing paired instructions and appropriate responses.\n",
       "    *   Further tuning is based on human preference data.\n",
       "\n",
       "5.  **Long-Context Understanding:**\n",
       "    *   The model incorporates significant architecture changes to enable long-context understanding of inputs up to 10 million tokens without degrading performance.\n",
       "\n",
       "6.  **Safety Mitigations:**\n",
       "    *   Supervised fine-tuning (SFT) and reinforcement learning through human feedback (RLHF) are used to mitigate safety risks.\n",
       "    *   The safety mitigation is focused on adversarial or \"harm-inducing\" queries.\n",
       "    *   New image-to-text SFT data is incorporated, as safety SFT data for text-only queries was not as effective for harm-inducing image-to-text queries.\n",
       "\n",
       "**In summary:** The training process for Gemini 1.5 Pro involves a combination of a sophisticated MoE Transformer architecture, massive computational resources, diverse multimodal data, instruction tuning, and safety mitigations. The model is designed to handle extremely long contexts, enabling it to process and reason over large amounts of information from various modalities."
      ],
      "text/plain": [
       "<IPython.core.display.Markdown object>"
      ]
     },
     "execution_count": 7,
     "metadata": {},
     "output_type": "execute_result"
    }
   ],
   "source": [
    "request = 'Tell me about the training process used here.'\n",
    "\n",
    "def summarise_doc(request: str) -> str:\n",
    "  \"\"\"Execute the request on the uploaded document.\"\"\"\n",
    "  # Set the temperature low to stabilise the output.\n",
    "  config = types.GenerateContentConfig(temperature=0.0)\n",
    "  response = client.models.generate_content(\n",
    "      model='gemini-2.0-flash',\n",
    "      config=config,\n",
    "      contents=[request, document_file],\n",
    "  )\n",
    "\n",
    "  return response.text\n",
    "\n",
    "summary = summarise_doc(request)\n",
    "Markdown(summary)"
   ]
  },
  {
   "cell_type": "markdown",
   "id": "36b861b5",
   "metadata": {
    "id": "6rR0v4Iw64x0",
    "papermill": {
     "duration": 0.008168,
     "end_time": "2025-03-31T16:19:00.286754",
     "exception": false,
     "start_time": "2025-03-31T16:19:00.278586",
     "status": "completed"
    },
    "tags": []
   },
   "source": [
    "### Define an evaluator\n",
    "\n",
    "For a task like this, you may wish to evaluate a number of aspects, like how well the model followed the prompt (\"instruction following\"), whether it included relevant data in the prompt (\"groundedness\"), how easy the text is to read (\"fluency\"), or other factors like \"verbosity\" or \"quality\".\n",
    "\n",
    "You can instruct an LLM to perform these tasks in a similar manner to how you would instruct a human rater: with a clear definition and [assessment rubric](https://en.wikipedia.org/wiki/Rubric_%28academic%29).\n",
    "\n",
    "In this step, you define an evaluation agent using a pre-written \"summarisation\" prompt and use it to gauge the quality of the generated summary.\n",
    "\n",
    "Note: For more pre-written evaluation prompts covering groundedness, safety, coherence and more, check out this [comprehensive list of model-based evaluation prompts](https://cloud.google.com/vertex-ai/generative-ai/docs/models/metrics-templates) from the Google Cloud docs."
   ]
  },
  {
   "cell_type": "code",
   "execution_count": 8,
   "id": "7501da92",
   "metadata": {
    "execution": {
     "iopub.execute_input": "2025-03-31T16:19:00.304225Z",
     "iopub.status.busy": "2025-03-31T16:19:00.303817Z",
     "iopub.status.idle": "2025-03-31T16:19:01.799822Z",
     "shell.execute_reply": "2025-03-31T16:19:01.798665Z"
    },
    "id": "xEAXtJte-Ajv",
    "outputId": "04459189-13ee-49e6-fe4d-525d323b1609",
    "papermill": {
     "duration": 1.506601,
     "end_time": "2025-03-31T16:19:01.801597",
     "exception": false,
     "start_time": "2025-03-31T16:19:00.294996",
     "status": "completed"
    },
    "tags": []
   },
   "outputs": [
    {
     "data": {
      "text/markdown": [
       "## Evaluation\n",
       "\n",
       "### STEP 1: Assess the response in aspects of instruction following, groundedness, conciseness, and verbosity according to the criteria.\n",
       "Instruction Following: The response does not explicitly follow instructions. I only asked for information about the training process.\n",
       "Groundedness: The response is grounded.\n",
       "Conciseness: The response is concise.\n",
       "Fluency: The response is fluent.\n",
       "\n",
       "### STEP 2: Score based on the rubric.\n",
       "3"
      ],
      "text/plain": [
       "<IPython.core.display.Markdown object>"
      ]
     },
     "execution_count": 8,
     "metadata": {},
     "output_type": "execute_result"
    }
   ],
   "source": [
    "import enum\n",
    "\n",
    "# Define the evaluation prompt\n",
    "SUMMARY_PROMPT = \"\"\"\\\n",
    "# Instruction\n",
    "You are an expert evaluator. Your task is to evaluate the quality of the responses generated by AI models.\n",
    "We will provide you with the user input and an AI-generated responses.\n",
    "You should first read the user input carefully for analyzing the task, and then evaluate the quality of the responses based on the Criteria provided in the Evaluation section below.\n",
    "You will assign the response a rating following the Rating Rubric and Evaluation Steps. Give step-by-step explanations for your rating, and only choose ratings from the Rating Rubric.\n",
    "\n",
    "# Evaluation\n",
    "## Metric Definition\n",
    "You will be assessing summarization quality, which measures the overall ability to summarize text. Pay special attention to length constraints, such as in X words or in Y sentences. The instruction for performing a summarization task and the context to be summarized are provided in the user prompt. The response should be shorter than the text in the context. The response should not contain information that is not present in the context.\n",
    "\n",
    "## Criteria\n",
    "Instruction following: The response demonstrates a clear understanding of the summarization task instructions, satisfying all of the instruction's requirements.\n",
    "Groundedness: The response contains information included only in the context. The response does not reference any outside information.\n",
    "Conciseness: The response summarizes the relevant details in the original text without a significant loss in key information without being too verbose or terse.\n",
    "Fluency: The response is well-organized and easy to read.\n",
    "\n",
    "## Rating Rubric\n",
    "5: (Very good). The summary follows instructions, is grounded, is concise, and fluent.\n",
    "4: (Good). The summary follows instructions, is grounded, concise, and fluent.\n",
    "3: (Ok). The summary mostly follows instructions, is grounded, but is not very concise and is not fluent.\n",
    "2: (Bad). The summary is grounded, but does not follow the instructions.\n",
    "1: (Very bad). The summary is not grounded.\n",
    "\n",
    "## Evaluation Steps\n",
    "STEP 1: Assess the response in aspects of instruction following, groundedness, conciseness, and verbosity according to the criteria.\n",
    "STEP 2: Score based on the rubric.\n",
    "\n",
    "# User Inputs and AI-generated Response\n",
    "## User Inputs\n",
    "\n",
    "### Prompt\n",
    "{prompt}\n",
    "\n",
    "## AI-generated Response\n",
    "{response}\n",
    "\"\"\"\n",
    "\n",
    "# Define a structured enum class to capture the result.\n",
    "class SummaryRating(enum.Enum):\n",
    "  VERY_GOOD = '5'\n",
    "  GOOD = '4'\n",
    "  OK = '3'\n",
    "  BAD = '2'\n",
    "  VERY_BAD = '1'\n",
    "\n",
    "\n",
    "def eval_summary(prompt, ai_response):\n",
    "  \"\"\"Evaluate the generated summary against the prompt used.\"\"\"\n",
    "\n",
    "  chat = client.chats.create(model='gemini-2.0-flash')\n",
    "\n",
    "  # Generate the full text response.\n",
    "  response = chat.send_message(\n",
    "      message=SUMMARY_PROMPT.format(prompt=prompt, response=ai_response)\n",
    "  )\n",
    "  verbose_eval = response.text\n",
    "\n",
    "  # Coerce into the desired structure.\n",
    "  structured_output_config = types.GenerateContentConfig(\n",
    "      response_mime_type=\"application/json\",\n",
    "      response_schema=SummaryRating,\n",
    "  )\n",
    "  response = chat.send_message(\n",
    "      message=\"Convert the final score.\",\n",
    "      config=structured_output_config,\n",
    "  )\n",
    "  structured_eval = response.parsed\n",
    "\n",
    "  return verbose_eval, structured_eval\n",
    "\n",
    "\n",
    "text_eval, struct_eval = eval_summary(prompt=[request, document_file], ai_response=summary)\n",
    "Markdown(text_eval)"
   ]
  },
  {
   "cell_type": "markdown",
   "id": "844ed719",
   "metadata": {
    "id": "qfkQ0lUByy2o",
    "papermill": {
     "duration": 0.007773,
     "end_time": "2025-03-31T16:19:01.817579",
     "exception": false,
     "start_time": "2025-03-31T16:19:01.809806",
     "status": "completed"
    },
    "tags": []
   },
   "source": [
    "In this example, the model generated a textual justification that was set up in a chat context. This full text response is useful both for human interpretation and for giving the model a place to \"collect notes\" while it assesses the text and produces a final score. This \"note taking\" or \"thinking\" strategy typically works well with auto-regressive models, where the generated text is passed back into the model at each generation step. This means the working \"notes\" are used when generating final result output.\n",
    "\n",
    "In the next turn, the model converts the text output into a structured response. If you want to aggregate scores or use them programatically then you want to avoid parsing the unstructured text output. Here the `SummaryRating` schema is passed, so the model converts the chat history into an instance of the `SummaryRating` enum."
   ]
  },
  {
   "cell_type": "code",
   "execution_count": 9,
   "id": "665f53ca",
   "metadata": {
    "execution": {
     "iopub.execute_input": "2025-03-31T16:19:01.834782Z",
     "iopub.status.busy": "2025-03-31T16:19:01.834458Z",
     "iopub.status.idle": "2025-03-31T16:19:01.839995Z",
     "shell.execute_reply": "2025-03-31T16:19:01.839053Z"
    },
    "id": "Ow9J9tgORiqt",
    "outputId": "2655150b-5f2c-4dfb-be61-fe1aa891c4c3",
    "papermill": {
     "duration": 0.015986,
     "end_time": "2025-03-31T16:19:01.841545",
     "exception": false,
     "start_time": "2025-03-31T16:19:01.825559",
     "status": "completed"
    },
    "tags": []
   },
   "outputs": [
    {
     "data": {
      "text/plain": [
       "<SummaryRating.OK: '3'>"
      ]
     },
     "execution_count": 9,
     "metadata": {},
     "output_type": "execute_result"
    }
   ],
   "source": [
    "struct_eval"
   ]
  },
  {
   "cell_type": "markdown",
   "id": "93b3e252",
   "metadata": {
    "id": "ox04QsdMuo59",
    "papermill": {
     "duration": 0.007645,
     "end_time": "2025-03-31T16:19:01.857468",
     "exception": false,
     "start_time": "2025-03-31T16:19:01.849823",
     "status": "completed"
    },
    "tags": []
   },
   "source": [
    "### Make the summary prompt better or worse\n",
    "\n",
    "Gemini models tend to be quite good at tasks like direct summarisation without much prompting, so you should expect to see a result like `GOOD` or `VERY_GOOD` on the previous task, even with a rudimentary prompt. Run it a few times to get a feel for the average response.\n",
    "\n",
    "To explore how to influence the summarisation output, consider what you might change in the summary request prompt to change the result. Take a look at the evaluation `SUMMARY_PROMPT` for some ideas.\n",
    "\n",
    "Try the following tweaks and see how they positively or negatively change the result:\n",
    "* Be specific with the size of the summary,\n",
    "* Request specific information,\n",
    "* Ask about information that is not in the document,\n",
    "* Ask for different degrees of summarisation (such as \"explain like I'm 5\" or \"with full technical depth\")"
   ]
  },
  {
   "cell_type": "code",
   "execution_count": 10,
   "id": "61597e97",
   "metadata": {
    "execution": {
     "iopub.execute_input": "2025-03-31T16:19:01.874752Z",
     "iopub.status.busy": "2025-03-31T16:19:01.874400Z",
     "iopub.status.idle": "2025-03-31T16:19:15.914721Z",
     "shell.execute_reply": "2025-03-31T16:19:15.913441Z"
    },
    "id": "u7TPwfAquvbb",
    "outputId": "12a24ca3-40c1-40c7-b5e9-a6f3653d162e",
    "papermill": {
     "duration": 14.05097,
     "end_time": "2025-03-31T16:19:15.916381",
     "exception": false,
     "start_time": "2025-03-31T16:19:01.865411",
     "status": "completed"
    },
    "tags": []
   },
   "outputs": [
    {
     "data": {
      "text/markdown": [
       "Determining the \"best\" LLM is complex because it depends on the specific task, desired characteristics (like speed, cost, or context window), and the benchmarks used for evaluation.  There isn't a single, universally agreed-upon \"best\" model.\n",
       "\n",
       "However, based on the provided document, here's a summary of the key points about Gemini 1.5 Pro and its position relative to other models:\n",
       "\n",
       "*   **Gemini 1.5 Pro:** This is the latest model from the Gemini family, developed by Google DeepMind. It's a multimodal mixture-of-experts model.\n",
       "\n",
       "*   **Key Features of Gemini 1.5 Pro:**\n",
       "\n",
       "    *   **Long Context:** It excels at recalling and reasoning over fine-grained information from millions of tokens of context (up to 10M tokens and beyond). This is a significant leap compared to models like Claude 2.1 (200k) and GPT-4 Turbo (128k).\n",
       "    *   **Multimodal:** It can handle various input modalities, including text, video, and audio.\n",
       "    *   **Efficiency:** It achieves performance comparable to Gemini 1.0 Ultra (a state-of-the-art model) while requiring significantly less compute to train.\n",
       "    *   **In-Context Learning:** It demonstrates surprising new capabilities, such as learning to translate a new language (Kalamang) from a single set of linguistic documentation.\n",
       "    *   **Strong Performance:** It achieves near-perfect recall on long-context retrieval tasks, improves state-of-the-art in long-document QA, long-video QA, and long-context ASR, and matches or surpasses Gemini 1.0 Ultra's performance across a broad set of benchmarks.\n",
       "\n",
       "*   **Gemini 1.5 Pro vs. Other Models:**\n",
       "\n",
       "    *   **Gemini 1.0 Pro:** Gemini 1.5 Pro generally outperforms Gemini 1.0 Pro across a wide range of benchmarks.\n",
       "    *   **Gemini 1.0 Ultra:** Gemini 1.5 Pro performs better than Gemini 1.0 Ultra on more than half of the benchmarks, despite using less training compute.\n",
       "    *   **Claude 2.1:** Gemini 1.5 Pro significantly surpasses Claude 2.1 in long-context recall.\n",
       "    *   **GPT-4 Turbo:** Gemini 1.5 Pro demonstrates superior long-context capabilities compared to GPT-4 Turbo.\n",
       "    *   **GPT-4V:** Gemini 1.5 Pro outperforms GPT-4V on video-related tasks, especially with longer video inputs.\n",
       "\n",
       "*   **Limitations and Considerations:**\n",
       "\n",
       "    *   The document is a technical report from Google DeepMind, so it presents a favorable view of Gemini 1.5 Pro.\n",
       "    *   The \"best\" model depends on the specific task. While Gemini 1.5 Pro excels in long-context scenarios, other models might be more suitable for tasks with shorter context requirements.\n",
       "    *   The document acknowledges that the choice of prompting method and type of needle affect final performance of models, and future versions of “needle(s)-in-a-haystack\" style tests should account for prompt robustness.\n",
       "    *   The document acknowledges that the model struggles to understand when to discuss contextually relevant information.\n",
       "\n",
       "**In conclusion:**\n",
       "\n",
       "If your primary need is for a model that can process and reason over extremely long contexts (millions of tokens) and handle multiple modalities, Gemini 1.5 Pro appears to be a leading contender based on this document. However, it's essential to consider your specific use case, evaluate other models, and be aware of the potential limitations.\n",
       "-----"
      ],
      "text/plain": [
       "<IPython.core.display.Markdown object>"
      ]
     },
     "metadata": {},
     "output_type": "display_data"
    },
    {
     "data": {
      "text/markdown": [
       "STEP 1: Assess the response in aspects of instruction following, groundedness, conciseness, and verbosity according to the criteria.\n",
       "\n",
       "Instruction Following: The model successfully identifies the important and relevant information in the context and returns this information in the response. The model followed the instructions well.\n",
       "Groundedness: The response is grounded in the context provided. There is no outside information used in the response.\n",
       "Conciseness: The response is not very concise. It is verbose, although it is a summary of the document provided.\n",
       "Fluency: The response is well-written and easy to read.\n",
       "\n",
       "STEP 2: Score based on the rubric.\n",
       "\n",
       "4: (Good). The summary follows instructions, is grounded, concise, and fluent.\n",
       "-----"
      ],
      "text/plain": [
       "<IPython.core.display.Markdown object>"
      ]
     },
     "metadata": {},
     "output_type": "display_data"
    },
    {
     "name": "stdout",
     "output_type": "stream",
     "text": [
      "SummaryRating.GOOD\n"
     ]
    }
   ],
   "source": [
    "new_prompt = \"What is the best LLM?\"\n",
    "# Try:\n",
    "#  ELI5 the training process\n",
    "#  Summarise the needle/haystack evaluation technique in 1 line\n",
    "#  Describe the model architecture to someone with a civil engineering degree\n",
    "#  What is the best LLM?\n",
    "\n",
    "if not new_prompt:\n",
    "  raise ValueError(\"Try setting a new summarisation prompt.\")\n",
    "\n",
    "\n",
    "def run_and_eval_summary(prompt):\n",
    "  \"\"\"Generate and evaluate the summary using the new prompt.\"\"\"\n",
    "  summary = summarise_doc(new_prompt)\n",
    "  display(Markdown(summary + '\\n-----'))\n",
    "\n",
    "  text, struct = eval_summary([new_prompt, document_file], summary)\n",
    "  display(Markdown(text + '\\n-----'))\n",
    "  print(struct)\n",
    "\n",
    "run_and_eval_summary(new_prompt)"
   ]
  },
  {
   "cell_type": "code",
   "execution_count": 11,
   "id": "b1d056e4",
   "metadata": {
    "execution": {
     "iopub.execute_input": "2025-03-31T16:19:15.935247Z",
     "iopub.status.busy": "2025-03-31T16:19:15.934836Z",
     "iopub.status.idle": "2025-03-31T16:19:31.024383Z",
     "shell.execute_reply": "2025-03-31T16:19:31.023278Z"
    },
    "id": "u7TPwfAquvbb",
    "outputId": "12a24ca3-40c1-40c7-b5e9-a6f3653d162e",
    "papermill": {
     "duration": 15.100883,
     "end_time": "2025-03-31T16:19:31.025909",
     "exception": false,
     "start_time": "2025-03-31T16:19:15.925026",
     "status": "completed"
    },
    "tags": []
   },
   "outputs": [
    {
     "data": {
      "text/markdown": [
       "Okay, here's a breakdown of the Gemini 1.5 Pro model architecture, tailored for someone with a civil engineering background:\n",
       "\n",
       "**The Big Picture: A System of Systems**\n",
       "\n",
       "Think of Gemini 1.5 Pro not as a single monolithic structure, but as a complex system of interconnected components, much like a large-scale infrastructure project.  It's designed to process and understand information from various sources (text, images, audio, video) and then use that understanding to perform tasks.\n",
       "\n",
       "**Key Components (Like Structural Elements):**\n",
       "\n",
       "1.  **Transformer Architecture (The Foundation):**\n",
       "    *   At its core, Gemini 1.5 Pro is based on the \"Transformer\" architecture.  Imagine this as the underlying framework, like the reinforced concrete foundation of a building.\n",
       "    *   Transformers are good at finding relationships between different parts of the input data, no matter how far apart they are. This is crucial for understanding long documents or videos where context is important.\n",
       "    *   The Transformer uses a mechanism called \"attention\" to focus on the most relevant parts of the input when making decisions. Think of it as selectively reinforcing certain areas of the foundation based on the load they're carrying.\n",
       "\n",
       "2.  **Mixture-of-Experts (MoE) (The Load-Bearing Walls):**\n",
       "    *   This is where Gemini 1.5 Pro gets its efficiency and scalability. Instead of having one giant neural network, it uses a \"mixture of experts.\"\n",
       "    *   Imagine a building with different specialized teams (experts) for different tasks (e.g., one team for text analysis, another for image recognition, another for audio processing).\n",
       "    *   A \"routing function\" acts like a project manager, deciding which expert team is best suited to handle a particular piece of the input data. This is like assigning the right crew to the right task on a construction site.\n",
       "    *   The key benefit is that not all the \"experts\" are active at the same time. This significantly reduces the computational cost, allowing the model to be much larger and handle more complex tasks without requiring excessive resources.\n",
       "\n",
       "3.  **Multimodal Input Processing (The Utility Connections):**\n",
       "    *   Gemini 1.5 Pro is designed to handle multiple types of data (text, images, audio, video) simultaneously.\n",
       "    *   Think of this as the utility connections (electricity, water, data) coming into the building. Each type of data is processed by specialized modules that convert it into a common format that the Transformer can understand.\n",
       "    *   This allows the model to understand the relationships between different modalities. For example, it can understand that a caption describes an image or that a sound effect is associated with a particular scene in a video.\n",
       "\n",
       "4.  **Long Context Window (The Span of the Structure):**\n",
       "    *   This is a key innovation of Gemini 1.5 Pro. It can process extremely long sequences of data (millions of \"tokens,\" which are essentially words or parts of words).\n",
       "    *   Think of this as the overall span of a bridge or the length of a tunnel. The longer the span, the more complex the engineering challenges.\n",
       "    *   The long context window allows the model to understand the overall structure and meaning of very large inputs, such as entire books, hours of video, or large codebases.\n",
       "\n",
       "**How It Works (The Construction Process):**\n",
       "\n",
       "1.  **Input:** The model receives input data (text, image, audio, video, or a combination).\n",
       "2.  **Modality Processing:** Each modality is processed by its respective module to convert it into a suitable format.\n",
       "3.  **Routing:** The routing function decides which \"experts\" are best suited to handle the input.\n",
       "4.  **Processing:** The selected experts process the input data using the Transformer architecture.\n",
       "5.  **Output:** The model generates an output based on its understanding of the input.\n",
       "\n",
       "**Key Advantages (The Benefits of the Design):**\n",
       "\n",
       "*   **Efficiency:** The MoE architecture allows the model to be very large and powerful without requiring excessive computational resources.\n",
       "*   **Scalability:** The model can handle extremely long sequences of data.\n",
       "*   **Multimodality:** The model can understand and reason about information from various sources.\n",
       "*   **Generalization:** The model can perform a wide range of tasks, from answering questions to translating languages.\n",
       "\n",
       "**In Summary:**\n",
       "\n",
       "Gemini 1.5 Pro is a sophisticated system that combines the power of the Transformer architecture with the efficiency of a mixture-of-experts approach. Its ability to handle multimodal input and extremely long sequences of data makes it a powerful tool for understanding and processing complex information. Think of it as a well-designed and efficiently constructed infrastructure project that can handle a wide range of demands.\n",
       "\n",
       "-----"
      ],
      "text/plain": [
       "<IPython.core.display.Markdown object>"
      ]
     },
     "metadata": {},
     "output_type": "display_data"
    },
    {
     "data": {
      "text/markdown": [
       "## Evaluation\n",
       "STEP 1: The response is well organized and written for the specified audience. It provides an explanation of the model architecture in a way that a civil engineer would understand.\n",
       "STEP 2: I rated this as a 5 because it followed the instruction, was grounded, and fluent.\n",
       "\n",
       "## Rating:\n",
       "5\n",
       "\n",
       "-----"
      ],
      "text/plain": [
       "<IPython.core.display.Markdown object>"
      ]
     },
     "metadata": {},
     "output_type": "display_data"
    },
    {
     "name": "stdout",
     "output_type": "stream",
     "text": [
      "SummaryRating.VERY_GOOD\n"
     ]
    }
   ],
   "source": [
    "new_prompt = \"Describe the model architecture to someone with a civil engineering degree\"\n",
    "# Try:\n",
    "#  ELI5 the training process\n",
    "#  Summarise the needle/haystack evaluation technique in 1 line\n",
    "#  Describe the model architecture to someone with a civil engineering degree\n",
    "#  What is the best LLM?\n",
    "\n",
    "if not new_prompt:\n",
    "  raise ValueError(\"Try setting a new summarisation prompt.\")\n",
    "\n",
    "\n",
    "def run_and_eval_summary(prompt):\n",
    "  \"\"\"Generate and evaluate the summary using the new prompt.\"\"\"\n",
    "  summary = summarise_doc(new_prompt)\n",
    "  display(Markdown(summary + '\\n-----'))\n",
    "\n",
    "  text, struct = eval_summary([new_prompt, document_file], summary)\n",
    "  display(Markdown(text + '\\n-----'))\n",
    "  print(struct)\n",
    "\n",
    "run_and_eval_summary(new_prompt)"
   ]
  },
  {
   "cell_type": "markdown",
   "id": "3077c1f6",
   "metadata": {
    "id": "Q4q_4Fls9nkl",
    "papermill": {
     "duration": 0.010338,
     "end_time": "2025-03-31T16:19:31.045392",
     "exception": false,
     "start_time": "2025-03-31T16:19:31.035054",
     "status": "completed"
    },
    "tags": []
   },
   "source": [
    "## Evaluating in practice\n",
    "\n",
    "Evaluation has many practical uses, for example:\n",
    "* You can quickly iterate on a prompt with a small set of test documents,\n",
    "* You can compare different models to find what works best for your needs, such as finding the trade-off between price and performance, or finding the best performance for a specific task.\n",
    "* When pushing changes to a model or prompt in a production system, you can verify that the system does not regress in quality.\n",
    "\n",
    "In this section you will try two different evaluation approaches."
   ]
  },
  {
   "cell_type": "markdown",
   "id": "90954552",
   "metadata": {
    "id": "v3xaSKwCXa7G",
    "papermill": {
     "duration": 0.008777,
     "end_time": "2025-03-31T16:19:31.064673",
     "exception": false,
     "start_time": "2025-03-31T16:19:31.055896",
     "status": "completed"
    },
    "tags": []
   },
   "source": [
    "### Pointwise evaluation\n",
    "\n",
    "The technique used above, where you evaluate a single input/output pair against some criteria is known as pointwise evaluation. This is useful for evaluating singular outputs in an absolute sense, such as \"was it good or bad?\"\n",
    "\n",
    "In this exercise, you will try different guidance prompts with a set of questions."
   ]
  },
  {
   "cell_type": "code",
   "execution_count": 12,
   "id": "5de978dd",
   "metadata": {
    "execution": {
     "iopub.execute_input": "2025-03-31T16:19:31.084078Z",
     "iopub.status.busy": "2025-03-31T16:19:31.083729Z",
     "iopub.status.idle": "2025-03-31T16:19:41.036991Z",
     "shell.execute_reply": "2025-03-31T16:19:41.035858Z"
    },
    "id": "fHfcBX7dZtVW",
    "outputId": "33d54648-355d-4dae-eb42-6ad665693cb0",
    "papermill": {
     "duration": 9.965524,
     "end_time": "2025-03-31T16:19:41.039273",
     "exception": false,
     "start_time": "2025-03-31T16:19:31.073749",
     "status": "completed"
    },
    "tags": []
   },
   "outputs": [
    {
     "data": {
      "text/markdown": [
       "Gemini 1.5 Pro is a sparse mixture-of-expert (MoE) Transformer-based model."
      ],
      "text/plain": [
       "<IPython.core.display.Markdown object>"
      ]
     },
     "execution_count": 12,
     "metadata": {},
     "output_type": "execute_result"
    }
   ],
   "source": [
    "import functools\n",
    "\n",
    "# Try these instructions, or edit and add your own.\n",
    "terse_guidance = \"Answer the following question in a single sentence, or as close to that as possible.\"\n",
    "moderate_guidance = \"Provide a brief answer to the following question, use a citation if necessary, but only enough to answer the question.\"\n",
    "cited_guidance = \"Provide a thorough, detailed answer to the following question, citing the document and supplying additional background information as much as possible.\"\n",
    "guidance_options = {\n",
    "    'Terse': terse_guidance,\n",
    "    'Moderate': moderate_guidance,\n",
    "    'Cited': cited_guidance,\n",
    "}\n",
    "\n",
    "questions = [\n",
    "    # Un-comment one or more questions to try here, or add your own.\n",
    "    # Evaluating more questions will take more time, but produces results\n",
    "    # with higher confidence. In a production system, you may have hundreds\n",
    "    # of questions to evaluate a complex system.\n",
    "\n",
    "    # \"What metric(s) are used to evaluate long context performance?\",\n",
    "    # \"How does the model perform on code tasks?\",\n",
    "    \"How many layers does it have?\",\n",
    "    # \"Why is it called Gemini?\",\n",
    "]\n",
    "\n",
    "if not questions:\n",
    "  raise NotImplementedError('Add some questions to evaluate!')\n",
    "\n",
    "\n",
    "@functools.cache\n",
    "def answer_question(question: str, guidance: str = '') -> str:\n",
    "  \"\"\"Generate an answer to the question using the uploaded document and guidance.\"\"\"\n",
    "  config = types.GenerateContentConfig(\n",
    "      temperature=0.0,\n",
    "      system_instruction=guidance,\n",
    "  )\n",
    "  response = client.models.generate_content(\n",
    "      model='gemini-2.0-flash',\n",
    "      config=config,\n",
    "      contents=[question, document_file],\n",
    "  )\n",
    "\n",
    "  return response.text\n",
    "\n",
    "\n",
    "answer = answer_question(questions[0], terse_guidance)\n",
    "Markdown(answer)"
   ]
  },
  {
   "cell_type": "markdown",
   "id": "d0991277",
   "metadata": {
    "id": "ZRabO8hok339",
    "papermill": {
     "duration": 0.00993,
     "end_time": "2025-03-31T16:19:41.059554",
     "exception": false,
     "start_time": "2025-03-31T16:19:41.049624",
     "status": "completed"
    },
    "tags": []
   },
   "source": [
    "Now set up a question-answering evaluator, much like before, but using the [pointwise QA evaluation prompt](https://cloud.google.com/vertex-ai/generative-ai/docs/models/metrics-templates#pointwise_question_answering_quality)."
   ]
  },
  {
   "cell_type": "code",
   "execution_count": 13,
   "id": "1f194e42",
   "metadata": {
    "execution": {
     "iopub.execute_input": "2025-03-31T16:19:41.078702Z",
     "iopub.status.busy": "2025-03-31T16:19:41.078360Z",
     "iopub.status.idle": "2025-03-31T16:19:42.399669Z",
     "shell.execute_reply": "2025-03-31T16:19:42.398531Z"
    },
    "id": "rfh-ZDAik2h2",
    "outputId": "d2e39241-337b-47a4-fe5b-02d9a990d704",
    "papermill": {
     "duration": 1.332855,
     "end_time": "2025-03-31T16:19:42.401460",
     "exception": false,
     "start_time": "2025-03-31T16:19:41.068605",
     "status": "completed"
    },
    "tags": []
   },
   "outputs": [
    {
     "data": {
      "text/markdown": [
       "STEP 1: The AI model did not specify how many layers Gemini 1.5 Pro has. The response just explains the type of model.\n",
       "STEP 2: The answer does not follow the instructions very well, is incomplete or not fully grounded, therefore the score is 2.\n",
       "\n",
       "Score: 2\n"
      ],
      "text/plain": [
       "<IPython.core.display.Markdown object>"
      ]
     },
     "metadata": {},
     "output_type": "display_data"
    },
    {
     "name": "stdout",
     "output_type": "stream",
     "text": [
      "AnswerRating.BAD\n"
     ]
    }
   ],
   "source": [
    "import enum\n",
    "\n",
    "QA_PROMPT = \"\"\"\\\n",
    "# Instruction\n",
    "You are an expert evaluator. Your task is to evaluate the quality of the responses generated by AI models.\n",
    "We will provide you with the user prompt and an AI-generated responses.\n",
    "You should first read the user prompt carefully for analyzing the task, and then evaluate the quality of the responses based on and rules provided in the Evaluation section below.\n",
    "\n",
    "# Evaluation\n",
    "## Metric Definition\n",
    "You will be assessing question answering quality, which measures the overall quality of the answer to the question in the user prompt. Pay special attention to length constraints, such as in X words or in Y sentences. The instruction for performing a question-answering task is provided in the user prompt. The response should not contain information that is not present in the context (if it is provided).\n",
    "\n",
    "You will assign the writing response a score from 5, 4, 3, 2, 1, following the Rating Rubric and Evaluation Steps.\n",
    "Give step-by-step explanations for your scoring, and only choose scores from 5, 4, 3, 2, 1.\n",
    "\n",
    "## Criteria Definition\n",
    "Instruction following: The response demonstrates a clear understanding of the question answering task instructions, satisfying all of the instruction's requirements.\n",
    "Groundedness: The response contains information included only in the context if the context is present in the user prompt. The response does not reference any outside information.\n",
    "Completeness: The response completely answers the question with sufficient detail.\n",
    "Fluent: The response is well-organized and easy to read.\n",
    "\n",
    "## Rating Rubric\n",
    "5: (Very good). The answer follows instructions, is grounded, complete, and fluent.\n",
    "4: (Good). The answer follows instructions, is grounded, complete, but is not very fluent.\n",
    "3: (Ok). The answer mostly follows instructions, is grounded, answers the question partially and is not very fluent.\n",
    "2: (Bad). The answer does not follow the instructions very well, is incomplete or not fully grounded.\n",
    "1: (Very bad). The answer does not follow the instructions, is wrong and not grounded.\n",
    "\n",
    "## Evaluation Steps\n",
    "STEP 1: Assess the response in aspects of instruction following, groundedness,completeness, and fluency according to the criteria.\n",
    "STEP 2: Score based on the rubric.\n",
    "\n",
    "# User Inputs and AI-generated Response\n",
    "## User Inputs\n",
    "### Prompt\n",
    "{prompt}\n",
    "\n",
    "## AI-generated Response\n",
    "{response}\n",
    "\"\"\"\n",
    "\n",
    "class AnswerRating(enum.Enum):\n",
    "  VERY_GOOD = '5'\n",
    "  GOOD = '4'\n",
    "  OK = '3'\n",
    "  BAD = '2'\n",
    "  VERY_BAD = '1'\n",
    "\n",
    "\n",
    "@functools.cache\n",
    "def eval_answer(prompt, ai_response, n=1):\n",
    "  \"\"\"Evaluate the generated answer against the prompt/question used.\"\"\"\n",
    "  chat = client.chats.create(model='gemini-2.0-flash')\n",
    "\n",
    "  # Generate the full text response.\n",
    "  response = chat.send_message(\n",
    "      message=QA_PROMPT.format(prompt=[prompt, document_file], response=ai_response)\n",
    "  )\n",
    "  verbose_eval = response.text\n",
    "\n",
    "  # Coerce into the desired structure.\n",
    "  structured_output_config = types.GenerateContentConfig(\n",
    "      response_mime_type=\"application/json\",\n",
    "      response_schema=AnswerRating,\n",
    "  )\n",
    "  response = chat.send_message(\n",
    "      message=\"Convert the final score.\",\n",
    "      config=structured_output_config,\n",
    "  )\n",
    "  structured_eval = response.parsed\n",
    "\n",
    "  return verbose_eval, structured_eval\n",
    "\n",
    "\n",
    "text_eval, struct_eval = eval_answer(prompt=questions[0], ai_response=answer)\n",
    "display(Markdown(text_eval))\n",
    "print(struct_eval)"
   ]
  },
  {
   "cell_type": "markdown",
   "id": "a6ab27f4",
   "metadata": {
    "id": "S8x8LgTspwAu",
    "papermill": {
     "duration": 0.008986,
     "end_time": "2025-03-31T16:19:42.419596",
     "exception": false,
     "start_time": "2025-03-31T16:19:42.410610",
     "status": "completed"
    },
    "tags": []
   },
   "source": [
    "Now run the evaluation task in a loop. Note that the guidance instruction is hidden from the evaluation agent. If you passed the guidance prompt, the model would score based on whether it followed that guidance, but for this task the goal is to find the best overall result based on the user's question, not the developers instruction."
   ]
  },
  {
   "cell_type": "code",
   "execution_count": 14,
   "id": "98405926",
   "metadata": {
    "execution": {
     "iopub.execute_input": "2025-03-31T16:19:42.439639Z",
     "iopub.status.busy": "2025-03-31T16:19:42.439287Z",
     "iopub.status.idle": "2025-03-31T16:20:05.815110Z",
     "shell.execute_reply": "2025-03-31T16:20:05.813753Z"
    },
    "id": "RZGzduJNmT9v",
    "outputId": "88a399e2-4feb-4ab9-daf5-4e8d4333964a",
    "papermill": {
     "duration": 23.388383,
     "end_time": "2025-03-31T16:20:05.817163",
     "exception": false,
     "start_time": "2025-03-31T16:19:42.428780",
     "status": "completed"
    },
    "tags": []
   },
   "outputs": [
    {
     "data": {
      "text/markdown": [
       "## How many layers does it have?"
      ],
      "text/plain": [
       "<IPython.core.display.Markdown object>"
      ]
     },
     "metadata": {},
     "output_type": "display_data"
    },
    {
     "name": "stdout",
     "output_type": "stream",
     "text": [
      "Terse: AnswerRating.OK\n",
      "Moderate: AnswerRating.VERY_BAD\n",
      "Cited: AnswerRating.VERY_GOOD\n"
     ]
    }
   ],
   "source": [
    "import collections\n",
    "import itertools\n",
    "\n",
    "# Number of times to repeat each task in order to reduce error and calculate an average.\n",
    "# Increasing it will take longer but give better results, try 2 or 3 to start.\n",
    "NUM_ITERATIONS = 1\n",
    "\n",
    "scores = collections.defaultdict(int)\n",
    "responses = collections.defaultdict(list)\n",
    "\n",
    "for question in questions:\n",
    "  display(Markdown(f'## {question}'))\n",
    "  for guidance, guide_prompt in guidance_options.items():\n",
    "\n",
    "    for n in range(NUM_ITERATIONS):\n",
    "      # Generate a response.\n",
    "      answer = answer_question(question, guide_prompt)\n",
    "\n",
    "      # Evaluate the response (note that the guidance prompt is not passed).\n",
    "      written_eval, struct_eval = eval_answer(question, answer, n)\n",
    "      print(f'{guidance}: {struct_eval}')\n",
    "\n",
    "      # Save the numeric score.\n",
    "      scores[guidance] += int(struct_eval.value)\n",
    "\n",
    "      # Save the responses, in case you wish to inspect them.\n",
    "      responses[(guidance, question)].append((answer, written_eval))\n"
   ]
  },
  {
   "cell_type": "markdown",
   "id": "97797105",
   "metadata": {
    "id": "93aGk7IP1DI_",
    "papermill": {
     "duration": 0.008957,
     "end_time": "2025-03-31T16:20:05.835716",
     "exception": false,
     "start_time": "2025-03-31T16:20:05.826759",
     "status": "completed"
    },
    "tags": []
   },
   "source": [
    "Now aggregate the scores to see how each prompt performed."
   ]
  },
  {
   "cell_type": "code",
   "execution_count": 15,
   "id": "0e33bb8a",
   "metadata": {
    "execution": {
     "iopub.execute_input": "2025-03-31T16:20:05.855883Z",
     "iopub.status.busy": "2025-03-31T16:20:05.855526Z",
     "iopub.status.idle": "2025-03-31T16:20:05.862020Z",
     "shell.execute_reply": "2025-03-31T16:20:05.860655Z"
    },
    "id": "1s2dgear1E0w",
    "outputId": "3c53519b-ab70-4417-de60-5d7c1da98cf6",
    "papermill": {
     "duration": 0.018662,
     "end_time": "2025-03-31T16:20:05.863791",
     "exception": false,
     "start_time": "2025-03-31T16:20:05.845129",
     "status": "completed"
    },
    "tags": []
   },
   "outputs": [
    {
     "name": "stdout",
     "output_type": "stream",
     "text": [
      "Terse: 3.00 - OK\n",
      "Moderate: 1.00 - VERY_BAD\n",
      "Cited: 5.00 - VERY_GOOD\n"
     ]
    }
   ],
   "source": [
    "for guidance, score in scores.items():\n",
    "  avg_score = score / (NUM_ITERATIONS * len(questions))\n",
    "  nearest = AnswerRating(str(round(avg_score)))\n",
    "  print(f'{guidance}: {avg_score:.2f} - {nearest.name}')"
   ]
  },
  {
   "cell_type": "markdown",
   "id": "96a1e394",
   "metadata": {
    "id": "kthCa72FdTsE",
    "papermill": {
     "duration": 0.008986,
     "end_time": "2025-03-31T16:20:05.882355",
     "exception": false,
     "start_time": "2025-03-31T16:20:05.873369",
     "status": "completed"
    },
    "tags": []
   },
   "source": [
    "### Pairwise evaluation\n",
    "\n",
    "The pointwise evaluation prompt used in the previous step has 5 levels of grading in the output. This may be too coarse for your system, or perhaps you wish to improve on a prompt that is already \"very good\".\n",
    "\n",
    "Another approach to evaluation is to compare two outputs against each other. This is pairwise evaluation, and is a key step in ranking and sorting algorithms, which allows you to use it to rank your prompts either instead of, or in addition to the pointwise approach.\n",
    "\n",
    "This step implements pairwise evaluation using the [pairwise QA quality prompt](https://cloud.google.com/vertex-ai/generative-ai/docs/models/metrics-templates#pairwise_question_answering_quality) from the Google Cloud docs."
   ]
  },
  {
   "cell_type": "code",
   "execution_count": 16,
   "id": "d5f75a5a",
   "metadata": {
    "execution": {
     "iopub.execute_input": "2025-03-31T16:20:05.902405Z",
     "iopub.status.busy": "2025-03-31T16:20:05.901991Z",
     "iopub.status.idle": "2025-03-31T16:20:07.805419Z",
     "shell.execute_reply": "2025-03-31T16:20:07.804221Z"
    },
    "id": "wArYTv5n1uIo",
    "outputId": "4703ac58-ac63-4417-8f54-b4d86ccbd5b2",
    "papermill": {
     "duration": 1.915183,
     "end_time": "2025-03-31T16:20:07.806954",
     "exception": false,
     "start_time": "2025-03-31T16:20:05.891771",
     "status": "completed"
    },
    "tags": []
   },
   "outputs": [
    {
     "data": {
      "text/markdown": [
       "Response A - is_instruction_following:no\n",
       "Response A - is_well_written:no\n",
       "Response A - is_extractable:no\n",
       "Response A - is_knowledgeable:no\n",
       "Response A - is_safe:yes\n",
       "Response B - is_instruction_following:yes\n",
       "Response B - is_well_written:yes\n",
       "Response B - is_extractable:no\n",
       "Response B - is_knowledgeable:no\n",
       "Response B - is_safe:yes\n",
       "\n",
       "Reason:Response B is better because it states that it does not have the answer in the document, which is correct. Response A answers the question and states that it is a sparse mixture-of-expert (MoE) Transformer-based model, which is not mentioned in the document.\n",
       "\n",
       "Which response is better: [[Response B is better]]"
      ],
      "text/plain": [
       "<IPython.core.display.Markdown object>"
      ]
     },
     "metadata": {},
     "output_type": "display_data"
    },
    {
     "name": "stdout",
     "output_type": "stream",
     "text": [
      "AnswerComparison.B\n"
     ]
    }
   ],
   "source": [
    "QA_PAIRWISE_PROMPT = \"\"\"\\\n",
    "# Instruction\n",
    "You are an expert evaluator. Your task is to evaluate the quality of the responses generated by two AI models. We will provide you with the user input and a pair of AI-generated responses (Response A and Response B). You should first read the user input carefully for analyzing the task, and then evaluate the quality of the responses based on the Criteria provided in the Evaluation section below.\n",
    "\n",
    "You will first judge responses individually, following the Rating Rubric and Evaluation Steps. Then you will give step-by-step explanations for your judgment, compare results to declare the winner based on the Rating Rubric and Evaluation Steps.\n",
    "\n",
    "# Evaluation\n",
    "## Metric Definition\n",
    "You will be assessing question answering quality, which measures the overall quality of the answer to the question in the user prompt. Pay special attention to length constraints, such as in X words or in Y sentences. The instruction for performing a question-answering task is provided in the user prompt. The response should not contain information that is not present in the context (if it is provided).\n",
    "\n",
    "## Criteria\n",
    "Instruction following: The response demonstrates a clear understanding of the question answering task instructions, satisfying all of the instruction's requirements.\n",
    "Groundedness: The response contains information included only in the context if the context is present in the user prompt. The response does not reference any outside information.\n",
    "Completeness: The response completely answers the question with sufficient detail.\n",
    "Fluent: The response is well-organized and easy to read.\n",
    "\n",
    "## Rating Rubric\n",
    "\"A\": Response A answers the given question as per the criteria better than response B.\n",
    "\"SAME\": Response A and B answers the given question equally well as per the criteria.\n",
    "\"B\": Response B answers the given question as per the criteria better than response A.\n",
    "\n",
    "## Evaluation Steps\n",
    "STEP 1: Analyze Response A based on the question answering quality criteria: Determine how well Response A fulfills the user requirements, is grounded in the context, is complete and fluent, and provides assessment according to the criterion.\n",
    "STEP 2: Analyze Response B based on the question answering quality criteria: Determine how well Response B fulfills the user requirements, is grounded in the context, is complete and fluent, and provides assessment according to the criterion.\n",
    "STEP 3: Compare the overall performance of Response A and Response B based on your analyses and assessment.\n",
    "STEP 4: Output your preference of \"A\", \"SAME\" or \"B\" to the pairwise_choice field according to the Rating Rubric.\n",
    "STEP 5: Output your assessment reasoning in the explanation field.\n",
    "\n",
    "# User Inputs and AI-generated Responses\n",
    "## User Inputs\n",
    "### Prompt\n",
    "{prompt}\n",
    "\n",
    "# AI-generated Response\n",
    "\n",
    "### Response A\n",
    "{baseline_model_response}\n",
    "\n",
    "### Response B\n",
    "{response}\n",
    "\"\"\"\n",
    "\n",
    "\n",
    "class AnswerComparison(enum.Enum):\n",
    "  A = 'A'\n",
    "  SAME = 'SAME'\n",
    "  B = 'B'\n",
    "\n",
    "\n",
    "@functools.cache\n",
    "def eval_pairwise(prompt, response_a, response_b, n=1):\n",
    "  \"\"\"Determine the better of two answers to the same prompt.\"\"\"\n",
    "\n",
    "  chat = client.chats.create(model='gemini-2.0-flash')\n",
    "\n",
    "  # Generate the full text response.\n",
    "  response = chat.send_message(\n",
    "      message=QA_PAIRWISE_PROMPT.format(\n",
    "          prompt=[prompt, document_file],\n",
    "          baseline_model_response=response_a,\n",
    "          response=response_b)\n",
    "  )\n",
    "  verbose_eval = response.text\n",
    "\n",
    "  # Coerce into the desired structure.\n",
    "  structured_output_config = types.GenerateContentConfig(\n",
    "      response_mime_type=\"application/json\",\n",
    "      response_schema=AnswerComparison,\n",
    "  )\n",
    "  response = chat.send_message(\n",
    "      message=\"Convert the final score.\",\n",
    "      config=structured_output_config,\n",
    "  )\n",
    "  structured_eval = response.parsed\n",
    "\n",
    "  return verbose_eval, structured_eval\n",
    "\n",
    "\n",
    "question = questions[0]\n",
    "answer_a = answer_question(question, terse_guidance)\n",
    "answer_b = answer_question(question, cited_guidance)\n",
    "\n",
    "text_eval, struct_eval = eval_pairwise(\n",
    "    prompt=question,\n",
    "    response_a=answer_a,\n",
    "    response_b=answer_b,\n",
    ")\n",
    "\n",
    "display(Markdown(text_eval))\n",
    "print(struct_eval)"
   ]
  },
  {
   "cell_type": "markdown",
   "id": "a0cbac9e",
   "metadata": {
    "id": "O74EgXn4oiqn",
    "papermill": {
     "duration": 0.009206,
     "end_time": "2025-03-31T16:20:07.825814",
     "exception": false,
     "start_time": "2025-03-31T16:20:07.816608",
     "status": "completed"
    },
    "tags": []
   },
   "source": [
    "With a pair-wise evaluator in place, the only thing required to rank prompts against each other is a comparator.\n",
    "\n",
    "This example implements the minimal comparators required for total ordering (`==` and `<`) and performs the comparison using  `n_iterations` evaluations over the set of `questions`."
   ]
  },
  {
   "cell_type": "code",
   "execution_count": 17,
   "id": "4bce28bc",
   "metadata": {
    "execution": {
     "iopub.execute_input": "2025-03-31T16:20:07.846591Z",
     "iopub.status.busy": "2025-03-31T16:20:07.846229Z",
     "iopub.status.idle": "2025-03-31T16:20:07.856256Z",
     "shell.execute_reply": "2025-03-31T16:20:07.854872Z"
    },
    "id": "Sr1PnWkZ33Cu",
    "papermill": {
     "duration": 0.02266,
     "end_time": "2025-03-31T16:20:07.858207",
     "exception": false,
     "start_time": "2025-03-31T16:20:07.835547",
     "status": "completed"
    },
    "tags": []
   },
   "outputs": [],
   "source": [
    "@functools.total_ordering\n",
    "class QAGuidancePrompt:\n",
    "  \"\"\"A question-answering guidance prompt or system instruction.\"\"\"\n",
    "\n",
    "  def __init__(self, prompt, questions, n_comparisons=NUM_ITERATIONS):\n",
    "    \"\"\"Create the prompt. Provide questions to evaluate against, and number of evals to perform.\"\"\"\n",
    "    self.prompt = prompt\n",
    "    self.questions = questions\n",
    "    self.n = n_comparisons\n",
    "\n",
    "  def __str__(self):\n",
    "    return self.prompt\n",
    "\n",
    "  def _compare_all(self, other):\n",
    "    \"\"\"Compare two prompts on all questions over n trials.\"\"\"\n",
    "    results = [self._compare_n(other, q) for q in questions]\n",
    "    mean = sum(results) / len(results)\n",
    "    return round(mean)\n",
    "\n",
    "  def _compare_n(self, other, question):\n",
    "    \"\"\"Compare two prompts on a question over n trials.\"\"\"\n",
    "    results = [self._compare(other, question, n) for n in range(self.n)]\n",
    "    mean = sum(results) / len(results)\n",
    "    return mean\n",
    "\n",
    "  def _compare(self, other, question, n=1):\n",
    "    \"\"\"Compare two prompts on a single question.\"\"\"\n",
    "    answer_a = answer_question(question, self.prompt)\n",
    "    answer_b = answer_question(question, other.prompt)\n",
    "\n",
    "    _, result = eval_pairwise(\n",
    "        prompt=question,\n",
    "        response_a=answer_a,\n",
    "        response_b=answer_b,\n",
    "        n=n,  # Cache buster\n",
    "    )\n",
    "    # print(f'q[{question}], a[{self.prompt[:20]}...], b[{other.prompt[:20]}...]: {result}')\n",
    "\n",
    "    # Convert the enum to the standard Python numeric comparison values.\n",
    "    if result is AnswerComparison.A:\n",
    "      return 1\n",
    "    elif result is AnswerComparison.B:\n",
    "      return -1\n",
    "    else:\n",
    "      return 0\n",
    "\n",
    "  def __eq__(self, other):\n",
    "    \"\"\"Equality check that performs pairwise evaluation.\"\"\"\n",
    "    if not isinstance(other, QAGuidancePrompt):\n",
    "      return NotImplemented\n",
    "\n",
    "    return self._compare_all(other) == 0\n",
    "\n",
    "  def __lt__(self, other):\n",
    "    \"\"\"Ordering check that performs pairwise evaluation.\"\"\"\n",
    "    if not isinstance(other, QAGuidancePrompt):\n",
    "      return NotImplemented\n",
    "\n",
    "    return self._compare_all(other) < 0\n"
   ]
  },
  {
   "cell_type": "markdown",
   "id": "7b168252",
   "metadata": {
    "id": "N-T7gpxy6cCI",
    "papermill": {
     "duration": 0.009695,
     "end_time": "2025-03-31T16:20:07.877651",
     "exception": false,
     "start_time": "2025-03-31T16:20:07.867956",
     "status": "completed"
    },
    "tags": []
   },
   "source": [
    "Now Python's sorting functions will \"just work\" on any `QAGuidancePrompt` instances. The `answer_question` and `eval_pairwise` functions are [memoized](https://en.wikipedia.org/wiki/Memoization) to avoid unnecessarily regenerating the same answers or evaluations, so you should see this complete quickly unless you have changed the questions, prompts or number of iterations from the earlier steps."
   ]
  },
  {
   "cell_type": "code",
   "execution_count": 18,
   "id": "371f7df3",
   "metadata": {
    "execution": {
     "iopub.execute_input": "2025-03-31T16:20:07.898573Z",
     "iopub.status.busy": "2025-03-31T16:20:07.898161Z",
     "iopub.status.idle": "2025-03-31T16:20:34.764167Z",
     "shell.execute_reply": "2025-03-31T16:20:34.762783Z"
    },
    "id": "DAT1wp--sOfS",
    "outputId": "29c832c3-b3c2-4bfe-ce45-e7d2cd841000",
    "papermill": {
     "duration": 26.878646,
     "end_time": "2025-03-31T16:20:34.766010",
     "exception": false,
     "start_time": "2025-03-31T16:20:07.887364",
     "status": "completed"
    },
    "tags": []
   },
   "outputs": [
    {
     "name": "stdout",
     "output_type": "stream",
     "text": [
      "#1: Provide a thorough, detailed answer to the following question, citing the document and supplying additional background information as much as possible.\n",
      "---\n",
      "#2: Provide a brief answer to the following question, use a citation if necessary, but only enough to answer the question.\n",
      "---\n",
      "#3: Answer the following question in a single sentence, or as close to that as possible.\n"
     ]
    }
   ],
   "source": [
    "terse_prompt = QAGuidancePrompt(terse_guidance, questions)\n",
    "moderate_prompt = QAGuidancePrompt(moderate_guidance, questions)\n",
    "cited_prompt = QAGuidancePrompt(cited_guidance, questions)\n",
    "\n",
    "# Sort in reverse order, so that best is first\n",
    "sorted_results = sorted([terse_prompt, moderate_prompt, cited_prompt], reverse=True)\n",
    "for i, p in enumerate(sorted_results):\n",
    "  if i:\n",
    "    print('---')\n",
    "\n",
    "  print(f'#{i+1}: {p}')"
   ]
  },
  {
   "cell_type": "markdown",
   "id": "c89abcf3",
   "metadata": {
    "id": "xfphETryZqdo",
    "papermill": {
     "duration": 0.009209,
     "end_time": "2025-03-31T16:20:34.785270",
     "exception": false,
     "start_time": "2025-03-31T16:20:34.776061",
     "status": "completed"
    },
    "tags": []
   },
   "source": [
    "## Challenges\n",
    "\n",
    "### LLM limitations\n",
    "\n",
    "LLMs are known to have problems on certain tasks, and these challenges still persist when using LLMs as evaluators. For example, LLMs can struggle to count the number of characters in a word (this is a numerical problem, not a language problem), so an LLM evaluator will not be able to accurately evaluate this type of task. There are solutions available in some cases, such as connecting tools to handle problems unsuitable to a language model, but it's important that you understand possible limitations and include human evaluators to calibrate your evaluation system and determine a baseline.\n",
    "\n",
    "One reason that LLM evaluators work well is that all of the information they need is available in the input context, so the model only needs to attend to that information to produce the result. When customising evaluation prompts, or building your own systems, keep this in mind and ensure that you are not relying on \"internal knowledge\" from the model, or behaviour that might be better provided from a tool.\n",
    "\n",
    "### Improving confidence\n",
    "\n",
    "One way to improve the confidence of your evaluations is to include a diverse set of evaluators. That is, use the same prompts and outputs, but execute them on different models, like Gemini Flash and Pro, or even across different providers, like Gemini, Claude, ChatGPT and local models like Gemma or Qwen. This follows the same idea used earlier, where repeating trials to gather multiple \"opinions\" helps to [reduce error](https://en.wikipedia.org/wiki/Law_of_large_numbers), except by using different models the \"opinions\" will be more diverse.\n",
    "\n",
    "\n",
    "## Learn more\n",
    "\n",
    "To learn more about evaluation systems, check out [this guide](https://cloud.google.com/blog/products/ai-machine-learning/enhancing-llm-quality-and-interpretability-with-the-vertex-gen-ai-evaluation-service?e=48754805) focusing on evaluation using Google Cloud's Gen AI Evaluation Service.\n",
    "\n",
    "And be sure to read the **bonus whitepaper** on [Evaluating Large Language Models](https://services.google.com/fh/files/blogs/neurips_evaluation.pdf).\n",
    "\n",
    "*- [Mark McD](https://linktr.ee/markmcd)*"
   ]
  },
  {
   "cell_type": "markdown",
   "id": "7ba29ffe",
   "metadata": {
    "papermill": {
     "duration": 0.009008,
     "end_time": "2025-03-31T16:20:34.803839",
     "exception": false,
     "start_time": "2025-03-31T16:20:34.794831",
     "status": "completed"
    },
    "tags": []
   },
   "source": []
  }
 ],
 "metadata": {
  "colab": {
   "provenance": [],
   "toc_visible": true
  },
  "kaggle": {
   "accelerator": "none",
   "dataSources": [],
   "dockerImageVersionId": 30918,
   "isGpuEnabled": false,
   "isInternetEnabled": true,
   "language": "python",
   "sourceType": "notebook"
  },
  "kernelspec": {
   "display_name": "Python 3",
   "language": "python",
   "name": "python3"
  },
  "language_info": {
   "codemirror_mode": {
    "name": "ipython",
    "version": 3
   },
   "file_extension": ".py",
   "mimetype": "text/x-python",
   "name": "python",
   "nbconvert_exporter": "python",
   "pygments_lexer": "ipython3",
   "version": "3.10.12"
  },
  "papermill": {
   "default_parameters": {},
   "duration": 121.869268,
   "end_time": "2025-03-31T16:20:35.533421",
   "environment_variables": {},
   "exception": null,
   "input_path": "__notebook__.ipynb",
   "output_path": "__notebook__.ipynb",
   "parameters": {},
   "start_time": "2025-03-31T16:18:33.664153",
   "version": "2.6.0"
  }
 },
 "nbformat": 4,
 "nbformat_minor": 5
}
